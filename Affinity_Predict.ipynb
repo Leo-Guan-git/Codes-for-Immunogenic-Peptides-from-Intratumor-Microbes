{
 "cells": [
  {
   "cell_type": "code",
   "execution_count": 1,
   "id": "e2e296c0-ca04-43e7-ae3b-4574dbee6c8c",
   "metadata": {
    "tags": []
   },
   "outputs": [],
   "source": [
    "import os\n",
    "import pandas as pd"
   ]
  },
  {
   "cell_type": "code",
   "execution_count": 2,
   "id": "145d2232-2de5-4f6e-877d-677c974f3102",
   "metadata": {
    "tags": []
   },
   "outputs": [
    {
     "data": {
      "text/plain": [
       "[]"
      ]
     },
     "execution_count": 2,
     "metadata": {},
     "output_type": "execute_result"
    }
   ],
   "source": [
    "os.chdir(\"/mnt/hgfs/G/Cell_line/HCT116\")\n",
    "os.listdir()"
   ]
  },
  {
   "cell_type": "code",
   "execution_count": 3,
   "id": "63efe1e0-2f70-47fe-95cf-0047e4d9adc2",
   "metadata": {
    "tags": []
   },
   "outputs": [],
   "source": [
    "def RunCmd(cmd):\n",
    "    print(cmd)\n",
    "    os.system(cmd)\n",
    "    \n",
    "# netMHCPan Predicting\n",
    "def AffinityPredicting(df_peptides, prefix, HLAinfo, outdir):\n",
    "    netMHCPan = \"/home/guanxiangyu/netMHCpan-4.1/netMHCpan\"\n",
    "    os.makedirs(outdir, exist_ok=True)\n",
    "    \n",
    "    # HLA type included in netMHCPan\n",
    "    netMHCPan_included_HLA = list()\n",
    "    tmp = os.popen(\"{} -listMHC\".format(netMHCPan))\n",
    "    for line in tmp:\n",
    "        line = line.strip()\n",
    "        if line and (not line.startswith('#')):\n",
    "            netMHCPan_included_HLA.append(line)\n",
    "            \n",
    "    # HLA type filtering\n",
    "    if type(HLAinfo) == str and os.path.exists(HLAinfo):\n",
    "        # for file input\n",
    "        hla_f = ReadFile(HLAinfo)\n",
    "        hla_type = hla_f.read().strip().split(\"\\n\")\n",
    "        hla_f.close()\n",
    "    else:\n",
    "        # for HLA type list or string\n",
    "        hla_type = HLAinfo\n",
    "    hla_type = sorted(set(hla_type))\n",
    "    for hla in hla_type:\n",
    "        if hla in netMHCPan_included_HLA:\n",
    "            continue\n",
    "        else:\n",
    "            print(\">>>either {} cannot be predicted by netMHCpan-4.1 or your input format could be wrong.<<<\".format(hla))\n",
    "            hla_type.remove(hla)\n",
    "    \n",
    "    # netMHCPan predicting\n",
    "    pep_file = os.path.join(outdir, '{}.pep'.format(prefix))\n",
    "    df_peptides.Sequence.drop_duplicates().to_csv(pep_file, header=False, index=False, sep=\"\\t\")\n",
    "    cmd = \"{} -p {} -BA -inptype 1 -a {} > {}.txt\".format(netMHCPan, pep_file, ','.join(hla_type), pep_file)\n",
    "    RunCmd(cmd)\n",
    "    cmd = \"rm {}\".format(pep_file)\n",
    "    RunCmd(cmd)\n",
    "    # netMHCPan result processing\n",
    "    netmhc_result_trans = \"/mnt/hgfs/G/Micro_Maxquant_v2/scripts/formattingNetMHCpanResults-n.pl\"\n",
    "    cmd = \"{} {}.txt {} {}\".format(netmhc_result_trans, pep_file, outdir, prefix)\n",
    "    RunCmd(cmd)"
   ]
  },
  {
   "cell_type": "code",
   "execution_count": 7,
   "id": "9a4a7050-913c-4535-b1ee-20962e592c2f",
   "metadata": {
    "tags": []
   },
   "outputs": [
    {
     "data": {
      "text/html": [
       "<div>\n",
       "<style scoped>\n",
       "    .dataframe tbody tr th:only-of-type {\n",
       "        vertical-align: middle;\n",
       "    }\n",
       "\n",
       "    .dataframe tbody tr th {\n",
       "        vertical-align: top;\n",
       "    }\n",
       "\n",
       "    .dataframe thead th {\n",
       "        text-align: right;\n",
       "    }\n",
       "</style>\n",
       "<table border=\"1\" class=\"dataframe\">\n",
       "  <thead>\n",
       "    <tr style=\"text-align: right;\">\n",
       "      <th></th>\n",
       "      <th>Sequence</th>\n",
       "    </tr>\n",
       "  </thead>\n",
       "  <tbody>\n",
       "    <tr>\n",
       "      <th>0</th>\n",
       "      <td>TSGDPPPPP</td>\n",
       "    </tr>\n",
       "    <tr>\n",
       "      <th>1</th>\n",
       "      <td>ENVQIIHF</td>\n",
       "    </tr>\n",
       "    <tr>\n",
       "      <th>2</th>\n",
       "      <td>EVVSQLVIP</td>\n",
       "    </tr>\n",
       "    <tr>\n",
       "      <th>3</th>\n",
       "      <td>ERQIGLISA</td>\n",
       "    </tr>\n",
       "    <tr>\n",
       "      <th>4</th>\n",
       "      <td>NIDLLQQF</td>\n",
       "    </tr>\n",
       "  </tbody>\n",
       "</table>\n",
       "</div>"
      ],
      "text/plain": [
       "    Sequence\n",
       "0  TSGDPPPPP\n",
       "1   ENVQIIHF\n",
       "2  EVVSQLVIP\n",
       "3  ERQIGLISA\n",
       "4   NIDLLQQF"
      ]
     },
     "execution_count": 7,
     "metadata": {},
     "output_type": "execute_result"
    }
   ],
   "source": [
    "df_pep = pd.read_csv(\"HCT116_Synpep.list\", header=None, sep=\"\\t\")\n",
    "df_pep.columns = ['Sequence']\n",
    "df_pep.head()"
   ]
  },
  {
   "cell_type": "code",
   "execution_count": 8,
   "id": "4083a637-b10d-413d-941a-9a5604db1192",
   "metadata": {
    "tags": []
   },
   "outputs": [],
   "source": [
    "HLA_l = ['HLA-A01:01', 'HLA-A02:01', 'HLA-B45:01', 'HLA-B50:01', 'HLA-B18:01', 'HLA-C05:01', 'HLA-C07:01',]"
   ]
  },
  {
   "cell_type": "code",
   "execution_count": 9,
   "id": "499ec78a-d2fd-43f2-b73e-c26c3eb53a00",
   "metadata": {
    "tags": []
   },
   "outputs": [
    {
     "data": {
      "text/plain": [
       "'/mnt/hgfs/G/Cell_line/HCT116'"
      ]
     },
     "execution_count": 9,
     "metadata": {},
     "output_type": "execute_result"
    }
   ],
   "source": [
    "os.getcwd()"
   ]
  },
  {
   "cell_type": "code",
   "execution_count": 22,
   "id": "9f4af022-c7dd-4b74-8658-7cfb9393b80e",
   "metadata": {
    "tags": []
   },
   "outputs": [
    {
     "name": "stdout",
     "output_type": "stream",
     "text": [
      "/home/guanxiangyu/netMHCpan-4.1/netMHCpan -p /mnt/hgfs/G/Cell_line/HCT116/HCT116_Syn.pep -BA -inptype 1 -a HLA-A01:01,HLA-A02:01,HLA-B18:01,HLA-B45:01,HLA-B50:01,HLA-C05:01,HLA-C07:01 > /mnt/hgfs/G/Cell_line/HCT116/HCT116_Syn.pep.txt\n",
      "rm /mnt/hgfs/G/Cell_line/HCT116/HCT116_Syn.pep\n",
      "/mnt/hgfs/G/Micro_Maxquant_v2/scripts/formattingNetMHCpanResults-n.pl /mnt/hgfs/G/Cell_line/HCT116/HCT116_Syn.pep.txt /mnt/hgfs/G/Cell_line/HCT116 HCT116_Syn\n"
     ]
    }
   ],
   "source": [
    "AffinityPredicting(df_pep, 'HCT116_Syn', HLA_l, os.getcwd())"
   ]
  },
  {
   "cell_type": "code",
   "execution_count": 23,
   "id": "c5c33507-f05f-4eb7-ba3e-16a8a0d1479f",
   "metadata": {
    "tags": []
   },
   "outputs": [
    {
     "data": {
      "text/html": [
       "<div>\n",
       "<style scoped>\n",
       "    .dataframe tbody tr th:only-of-type {\n",
       "        vertical-align: middle;\n",
       "    }\n",
       "\n",
       "    .dataframe tbody tr th {\n",
       "        vertical-align: top;\n",
       "    }\n",
       "\n",
       "    .dataframe thead th {\n",
       "        text-align: right;\n",
       "    }\n",
       "</style>\n",
       "<table border=\"1\" class=\"dataframe\">\n",
       "  <thead>\n",
       "    <tr style=\"text-align: right;\">\n",
       "      <th></th>\n",
       "      <th>#Peptide</th>\n",
       "      <th>Length</th>\n",
       "      <th>BinderNum</th>\n",
       "      <th>MHC</th>\n",
       "      <th>Aff.IC50nM</th>\n",
       "      <th>Rank_EL(%)</th>\n",
       "      <th>Rank_BA(%)</th>\n",
       "      <th>BinderType</th>\n",
       "    </tr>\n",
       "  </thead>\n",
       "  <tbody>\n",
       "    <tr>\n",
       "      <th>0</th>\n",
       "      <td>DLDEILHF</td>\n",
       "      <td>8</td>\n",
       "      <td>1</td>\n",
       "      <td>HLA-A*01:01,HLA-A*02:01,HLA-B*18:01,HLA-B*45:0...</td>\n",
       "      <td>18544.11,30731.04,21632.20,42808.53,43746.41,1...</td>\n",
       "      <td>2.308,10.053,3.825,20.364,21.367,0.875,10.380</td>\n",
       "      <td>7.792,44.701,13.143,79.718,88.209,5.325,48.921</td>\n",
       "      <td>NB,NB,NB,NB,NB,WB,NB</td>\n",
       "    </tr>\n",
       "    <tr>\n",
       "      <th>1</th>\n",
       "      <td>EDRAQLAI</td>\n",
       "      <td>8</td>\n",
       "      <td>0</td>\n",
       "      <td>HLA-A*01:01,HLA-A*02:01,HLA-B*18:01,HLA-B*45:0...</td>\n",
       "      <td>33710.33,41865.85,26642.18,21839.62,28421.45,3...</td>\n",
       "      <td>31.750,59.545,9.917,7.258,12.582,17.000,55.000</td>\n",
       "      <td>40.107,79.691,20.596,10.497,25.088,21.899,73.214</td>\n",
       "      <td>NB,NB,NB,NB,NB,NB,NB</td>\n",
       "    </tr>\n",
       "    <tr>\n",
       "      <th>2</th>\n",
       "      <td>ENIVSFNF</td>\n",
       "      <td>8</td>\n",
       "      <td>1</td>\n",
       "      <td>HLA-A*01:01,HLA-A*02:01,HLA-B*18:01,HLA-B*45:0...</td>\n",
       "      <td>34605.77,42505.78,2764.49,19737.44,29803.37,41...</td>\n",
       "      <td>29.379,78.333,1.788,12.524,29.316,35.800,26.714</td>\n",
       "      <td>43.940,82.225,1.213,8.994,28.466,55.277,42.796</td>\n",
       "      <td>NB,NB,WB,NB,NB,NB,NB</td>\n",
       "    </tr>\n",
       "    <tr>\n",
       "      <th>3</th>\n",
       "      <td>ENVQIIHF</td>\n",
       "      <td>8</td>\n",
       "      <td>1</td>\n",
       "      <td>HLA-A*01:01,HLA-A*02:01,HLA-B*18:01,HLA-B*45:0...</td>\n",
       "      <td>38575.97,44794.88,8363.00,29837.89,36691.08,42...</td>\n",
       "      <td>22.842,63.750,1.224,7.064,21.245,27.077,14.909</td>\n",
       "      <td>63.886,90.863,3.490,20.607,53.205,62.480,48.253</td>\n",
       "      <td>NB,NB,WB,NB,NB,NB,NB</td>\n",
       "    </tr>\n",
       "    <tr>\n",
       "      <th>4</th>\n",
       "      <td>ERQIGLISA</td>\n",
       "      <td>9</td>\n",
       "      <td>0</td>\n",
       "      <td>HLA-A*01:01,HLA-A*02:01,HLA-B*18:01,HLA-B*45:0...</td>\n",
       "      <td>40938.61,37962.76,26649.96,15393.31,13863.84,4...</td>\n",
       "      <td>52.742,43.143,11.958,4.558,2.913,46.500,8.142</td>\n",
       "      <td>77.034,65.169,20.611,6.495,6.358,73.149,11.504</td>\n",
       "      <td>NB,NB,NB,NB,NB,NB,NB</td>\n",
       "    </tr>\n",
       "  </tbody>\n",
       "</table>\n",
       "</div>"
      ],
      "text/plain": [
       "    #Peptide  Length  BinderNum  \\\n",
       "0   DLDEILHF       8          1   \n",
       "1   EDRAQLAI       8          0   \n",
       "2   ENIVSFNF       8          1   \n",
       "3   ENVQIIHF       8          1   \n",
       "4  ERQIGLISA       9          0   \n",
       "\n",
       "                                                 MHC  \\\n",
       "0  HLA-A*01:01,HLA-A*02:01,HLA-B*18:01,HLA-B*45:0...   \n",
       "1  HLA-A*01:01,HLA-A*02:01,HLA-B*18:01,HLA-B*45:0...   \n",
       "2  HLA-A*01:01,HLA-A*02:01,HLA-B*18:01,HLA-B*45:0...   \n",
       "3  HLA-A*01:01,HLA-A*02:01,HLA-B*18:01,HLA-B*45:0...   \n",
       "4  HLA-A*01:01,HLA-A*02:01,HLA-B*18:01,HLA-B*45:0...   \n",
       "\n",
       "                                          Aff.IC50nM  \\\n",
       "0  18544.11,30731.04,21632.20,42808.53,43746.41,1...   \n",
       "1  33710.33,41865.85,26642.18,21839.62,28421.45,3...   \n",
       "2  34605.77,42505.78,2764.49,19737.44,29803.37,41...   \n",
       "3  38575.97,44794.88,8363.00,29837.89,36691.08,42...   \n",
       "4  40938.61,37962.76,26649.96,15393.31,13863.84,4...   \n",
       "\n",
       "                                        Rank_EL(%)  \\\n",
       "0    2.308,10.053,3.825,20.364,21.367,0.875,10.380   \n",
       "1   31.750,59.545,9.917,7.258,12.582,17.000,55.000   \n",
       "2  29.379,78.333,1.788,12.524,29.316,35.800,26.714   \n",
       "3   22.842,63.750,1.224,7.064,21.245,27.077,14.909   \n",
       "4    52.742,43.143,11.958,4.558,2.913,46.500,8.142   \n",
       "\n",
       "                                         Rank_BA(%)            BinderType  \n",
       "0    7.792,44.701,13.143,79.718,88.209,5.325,48.921  NB,NB,NB,NB,NB,WB,NB  \n",
       "1  40.107,79.691,20.596,10.497,25.088,21.899,73.214  NB,NB,NB,NB,NB,NB,NB  \n",
       "2    43.940,82.225,1.213,8.994,28.466,55.277,42.796  NB,NB,WB,NB,NB,NB,NB  \n",
       "3   63.886,90.863,3.490,20.607,53.205,62.480,48.253  NB,NB,WB,NB,NB,NB,NB  \n",
       "4    77.034,65.169,20.611,6.495,6.358,73.149,11.504  NB,NB,NB,NB,NB,NB,NB  "
      ]
     },
     "execution_count": 23,
     "metadata": {},
     "output_type": "execute_result"
    }
   ],
   "source": [
    "df_NetMHC_result = pd.read_csv(\"HCT116_Syn.peptides.affinity_features.txt\", header=0, sep=\"\\t\")\n",
    "df_NetMHC_result.head()"
   ]
  },
  {
   "cell_type": "code",
   "execution_count": 24,
   "id": "6a2308e2-dc8b-44bc-bddf-c031f2a0dfe9",
   "metadata": {
    "tags": []
   },
   "outputs": [],
   "source": [
    "for i in df_NetMHC_result.columns[3:]:\n",
    "    df_NetMHC_result[i] = df_NetMHC_result[i].str.split(',')"
   ]
  },
  {
   "cell_type": "code",
   "execution_count": 25,
   "id": "86f3d2a5-a6c9-4f87-96cc-3f2381d0e026",
   "metadata": {
    "tags": []
   },
   "outputs": [],
   "source": [
    "df_NetMHC_result.explode(df_NetMHC_result.columns[3:].to_list(), ignore_index=True).to_csv(\"HCT116_Syn.peptides.affinity_features.csv\", index=False)"
   ]
  },
  {
   "cell_type": "code",
   "execution_count": 19,
   "id": "b09b2aad-d771-46e6-ac01-94f05c2c8611",
   "metadata": {
    "tags": []
   },
   "outputs": [
    {
     "data": {
      "text/plain": [
       "['MHC', 'Aff.IC50nM', 'Rank_EL(%)', 'Rank_BA(%)', 'BinderType']"
      ]
     },
     "execution_count": 19,
     "metadata": {},
     "output_type": "execute_result"
    }
   ],
   "source": [
    "df_NetMHC_result.columns[3:].to_list()"
   ]
  },
  {
   "cell_type": "code",
   "execution_count": null,
   "id": "74da128f-1f96-4fa1-9ec7-4ce7912c9bd1",
   "metadata": {},
   "outputs": [],
   "source": []
  }
 ],
 "metadata": {
  "kernelspec": {
   "display_name": "Python 3 (ipykernel)",
   "language": "python",
   "name": "python3"
  },
  "language_info": {
   "codemirror_mode": {
    "name": "ipython",
    "version": 3
   },
   "file_extension": ".py",
   "mimetype": "text/x-python",
   "name": "python",
   "nbconvert_exporter": "python",
   "pygments_lexer": "ipython3",
   "version": "3.11.5"
  }
 },
 "nbformat": 4,
 "nbformat_minor": 5
}
