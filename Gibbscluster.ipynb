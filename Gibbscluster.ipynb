{
 "cells": [
  {
   "cell_type": "code",
   "execution_count": 1,
   "id": "6ffbef2b-9151-457b-ab5a-1b33899fe155",
   "metadata": {
    "tags": []
   },
   "outputs": [],
   "source": [
    "import pandas as pd\n",
    "import os\n",
    "import sys"
   ]
  },
  {
   "cell_type": "code",
   "execution_count": 29,
   "id": "873ba8e8-5405-41a4-beaa-b198f6facfe9",
   "metadata": {
    "tags": []
   },
   "outputs": [
    {
     "name": "stdout",
     "output_type": "stream",
     "text": [
      "~/seq2logo-2.1/Seq2Logo.py -f /mnt/hgfs/G/Micro_Maxquant_v2/results/Gibbs/CRC01_2582587/cores/gibbs.1of6.core -o /mnt/hgfs/G/Micro_Maxquant_v2/results/Gibbs/CRC01_2582587/visulization/gibbs_logos_1of6 -I 2 -p 540x400 --format PDF,PNG -b 200 -C 2 -t \"Group 1 of 6\"\n"
     ]
    },
    {
     "name": "stderr",
     "output_type": "stream",
     "text": [
      "inputType: RAW\n",
      "/home/guanxiangyu/seq2logo-2.1/etc/Seq2Logo_module.py:535: RuntimeWarning: invalid value encountered in greater_equal\n",
      "  self.width = np.around(np.sum((self.aln>=0)*self.sw, 0) / np.sum(self.sw, dtype='|f8'), decimals=2)\n",
      "\n"
     ]
    },
    {
     "name": "stdout",
     "output_type": "stream",
     "text": [
      "~/seq2logo-2.1/Seq2Logo.py -f /mnt/hgfs/G/Micro_Maxquant_v2/results/Gibbs/CRC01_2582587/cores/gibbs.2of6.core -o /mnt/hgfs/G/Micro_Maxquant_v2/results/Gibbs/CRC01_2582587/visulization/gibbs_logos_2of6 -I 2 -p 540x400 --format PDF,PNG -b 200 -C 2 -t \"Group 2 of 6\"\n",
      "Error: /unknownerror in --.FAPIBuildChar--\n",
      "Operand stack:   --dict:17/19(ro)(G)--   89\n",
      "Execution stack:   %interp_exit   .runexec2   --nostringval--   --nostringval--   --nostringval--   2   %stopped_push   --nostringval--   --nostringval--   --nostringval--   false   1   %stopped_push   1928   1   3   %oparray_pop   1927   1   3   %oparray_pop   1926   1   3   %oparray_pop   --nostringval--   1912   1   3   %oparray_pop   1785   1   3   %oparray_pop   --nostringval--   %errorexec_pop   .runexec2   --nostringval--   --nostringval--   --nostringval--   2   %stopped_push   --nostringval--   --nostringval--   --nostringval--   --nostringval--   --nostringval--   %finish_show   --nostringval--   --nostringval--   11   3   0   --nostringval--   (gs_show_enum)   %op_show_continue\n",
      "Dictionary stack:   --dict:747/1123(ro)(G)--   --dict:0/20(G)--   --dict:184/200(L)--\n",
      "Current allocation mode is local\n",
      "Last OS error: No such file or directoryCurrent file position is 17271\n"
     ]
    },
    {
     "name": "stderr",
     "output_type": "stream",
     "text": [
      "inputType: RAW\n",
      "/home/guanxiangyu/seq2logo-2.1/etc/Seq2Logo_module.py:535: RuntimeWarning: invalid value encountered in greater_equal\n",
      "  self.width = np.around(np.sum((self.aln>=0)*self.sw, 0) / np.sum(self.sw, dtype='|f8'), decimals=2)\n",
      "GPL Ghostscript 10.02.1: Unrecoverable error, exit code 1\n",
      "\n",
      "inputType: RAW\n"
     ]
    },
    {
     "name": "stdout",
     "output_type": "stream",
     "text": [
      "~/seq2logo-2.1/Seq2Logo.py -f /mnt/hgfs/G/Micro_Maxquant_v2/results/Gibbs/CRC01_2582587/cores/gibbs.3of6.core -o /mnt/hgfs/G/Micro_Maxquant_v2/results/Gibbs/CRC01_2582587/visulization/gibbs_logos_3of6 -I 2 -p 540x400 --format PDF,PNG -b 200 -C 2 -t \"Group 3 of 6\"\n"
     ]
    },
    {
     "name": "stderr",
     "output_type": "stream",
     "text": [
      "\n",
      "inputType: RAW\n",
      "/home/guanxiangyu/seq2logo-2.1/etc/Seq2Logo_module.py:535: RuntimeWarning: invalid value encountered in greater_equal\n",
      "  self.width = np.around(np.sum((self.aln>=0)*self.sw, 0) / np.sum(self.sw, dtype='|f8'), decimals=2)\n",
      "GPL Ghostscript 10.02.1: Unrecoverable error, exit code 1\n"
     ]
    },
    {
     "name": "stdout",
     "output_type": "stream",
     "text": [
      "~/seq2logo-2.1/Seq2Logo.py -f /mnt/hgfs/G/Micro_Maxquant_v2/results/Gibbs/CRC01_2582587/cores/gibbs.4of6.core -o /mnt/hgfs/G/Micro_Maxquant_v2/results/Gibbs/CRC01_2582587/visulization/gibbs_logos_4of6 -I 2 -p 540x400 --format PDF,PNG -b 200 -C 2 -t \"Group 4 of 6\"\n",
      "Error: /unknownerror in --.FAPIBuildChar--\n",
      "Operand stack:   --dict:17/19(ro)(G)--   70\n",
      "Execution stack:   %interp_exit   .runexec2   --nostringval--   --nostringval--   --nostringval--   2   %stopped_push   --nostringval--   --nostringval--   --nostringval--   false   1   %stopped_push   1928   1   3   %oparray_pop   1927   1   3   %oparray_pop   1926   1   3   %oparray_pop   --nostringval--   1912   1   3   %oparray_pop   1785   1   3   %oparray_pop   --nostringval--   %errorexec_pop   .runexec2   --nostringval--   --nostringval--   --nostringval--   2   %stopped_push   --nostringval--   --nostringval--   --nostringval--   --nostringval--   --nostringval--   %finish_show   --nostringval--   --nostringval--   11   3   0   --nostringval--   (gs_show_enum)   %op_show_continue\n",
      "Dictionary stack:   --dict:747/1123(ro)(G)--   --dict:0/20(G)--   --dict:184/200(L)--\n",
      "Current allocation mode is local\n",
      "Last OS error: No such file or directoryCurrent file position is 21427\n"
     ]
    },
    {
     "name": "stderr",
     "output_type": "stream",
     "text": [
      "\n",
      "inputType: RAW\n",
      "/home/guanxiangyu/seq2logo-2.1/etc/Seq2Logo_module.py:535: RuntimeWarning: invalid value encountered in greater_equal\n",
      "  self.width = np.around(np.sum((self.aln>=0)*self.sw, 0) / np.sum(self.sw, dtype='|f8'), decimals=2)\n"
     ]
    },
    {
     "name": "stdout",
     "output_type": "stream",
     "text": [
      "~/seq2logo-2.1/Seq2Logo.py -f /mnt/hgfs/G/Micro_Maxquant_v2/results/Gibbs/CRC01_2582587/cores/gibbs.5of6.core -o /mnt/hgfs/G/Micro_Maxquant_v2/results/Gibbs/CRC01_2582587/visulization/gibbs_logos_5of6 -I 2 -p 540x400 --format PDF,PNG -b 200 -C 2 -t \"Group 5 of 6\"\n"
     ]
    },
    {
     "name": "stderr",
     "output_type": "stream",
     "text": [
      "\n",
      "inputType: RAW\n",
      "/home/guanxiangyu/seq2logo-2.1/etc/Seq2Logo_module.py:535: RuntimeWarning: invalid value encountered in greater_equal\n",
      "  self.width = np.around(np.sum((self.aln>=0)*self.sw, 0) / np.sum(self.sw, dtype='|f8'), decimals=2)\n"
     ]
    },
    {
     "name": "stdout",
     "output_type": "stream",
     "text": [
      "~/seq2logo-2.1/Seq2Logo.py -f /mnt/hgfs/G/Micro_Maxquant_v2/results/Gibbs/CRC01_2582587/cores/gibbs.6of6.core -o /mnt/hgfs/G/Micro_Maxquant_v2/results/Gibbs/CRC01_2582587/visulization/gibbs_logos_6of6 -I 2 -p 540x400 --format PDF,PNG -b 200 -C 2 -t \"Group 6 of 6\"\n"
     ]
    },
    {
     "name": "stderr",
     "output_type": "stream",
     "text": [
      "\n",
      "inputType: RAW\n",
      "/home/guanxiangyu/seq2logo-2.1/etc/Seq2Logo_module.py:535: RuntimeWarning: invalid value encountered in greater_equal\n",
      "  self.width = np.around(np.sum((self.aln>=0)*self.sw, 0) / np.sum(self.sw, dtype='|f8'), decimals=2)\n"
     ]
    },
    {
     "name": "stdout",
     "output_type": "stream",
     "text": [
      "~/seq2logo-2.1/Seq2Logo.py -f /mnt/hgfs/G/Micro_Maxquant_v2/results/Gibbs/CRC02_2604150/cores/gibbs.1of4.core -o /mnt/hgfs/G/Micro_Maxquant_v2/results/Gibbs/CRC02_2604150/visulization/gibbs_logos_1of4 -I 2 -p 540x400 --format PDF,PNG -b 200 -C 2 -t \"Group 1 of 4\"\n"
     ]
    },
    {
     "name": "stderr",
     "output_type": "stream",
     "text": [
      "\n",
      "inputType: RAW\n",
      "/home/guanxiangyu/seq2logo-2.1/etc/Seq2Logo_module.py:535: RuntimeWarning: invalid value encountered in greater_equal\n",
      "  self.width = np.around(np.sum((self.aln>=0)*self.sw, 0) / np.sum(self.sw, dtype='|f8'), decimals=2)\n"
     ]
    },
    {
     "name": "stdout",
     "output_type": "stream",
     "text": [
      "~/seq2logo-2.1/Seq2Logo.py -f /mnt/hgfs/G/Micro_Maxquant_v2/results/Gibbs/CRC02_2604150/cores/gibbs.2of4.core -o /mnt/hgfs/G/Micro_Maxquant_v2/results/Gibbs/CRC02_2604150/visulization/gibbs_logos_2of4 -I 2 -p 540x400 --format PDF,PNG -b 200 -C 2 -t \"Group 2 of 4\"\n"
     ]
    },
    {
     "name": "stderr",
     "output_type": "stream",
     "text": [
      "\n",
      "inputType: RAW\n",
      "/home/guanxiangyu/seq2logo-2.1/etc/Seq2Logo_module.py:535: RuntimeWarning: invalid value encountered in greater_equal\n",
      "  self.width = np.around(np.sum((self.aln>=0)*self.sw, 0) / np.sum(self.sw, dtype='|f8'), decimals=2)\n",
      "GPL Ghostscript 10.02.1: Unrecoverable error, exit code 1\n"
     ]
    },
    {
     "name": "stdout",
     "output_type": "stream",
     "text": [
      "~/seq2logo-2.1/Seq2Logo.py -f /mnt/hgfs/G/Micro_Maxquant_v2/results/Gibbs/CRC02_2604150/cores/gibbs.3of4.core -o /mnt/hgfs/G/Micro_Maxquant_v2/results/Gibbs/CRC02_2604150/visulization/gibbs_logos_3of4 -I 2 -p 540x400 --format PDF,PNG -b 200 -C 2 -t \"Group 3 of 4\"\n",
      "Error: /unknownerror in --.FAPIBuildChar--\n",
      "Operand stack:   --dict:17/19(ro)(G)--   67\n",
      "Execution stack:   %interp_exit   .runexec2   --nostringval--   --nostringval--   --nostringval--   2   %stopped_push   --nostringval--   --nostringval--   --nostringval--   false   1   %stopped_push   1928   1   3   %oparray_pop   1927   1   3   %oparray_pop   1926   1   3   %oparray_pop   --nostringval--   1912   1   3   %oparray_pop   1785   1   3   %oparray_pop   --nostringval--   %errorexec_pop   .runexec2   --nostringval--   --nostringval--   --nostringval--   2   %stopped_push   --nostringval--   --nostringval--   --nostringval--   --nostringval--   --nostringval--   %finish_show   --nostringval--   --nostringval--   11   3   0   --nostringval--   (gs_show_enum)   %op_show_continue\n",
      "Dictionary stack:   --dict:747/1123(ro)(G)--   --dict:0/20(G)--   --dict:184/200(L)--\n",
      "Current allocation mode is local\n",
      "Last OS error: No such file or directoryCurrent file position is 18941\n"
     ]
    },
    {
     "name": "stderr",
     "output_type": "stream",
     "text": [
      "\n",
      "inputType: RAW\n",
      "/home/guanxiangyu/seq2logo-2.1/etc/Seq2Logo_module.py:535: RuntimeWarning: invalid value encountered in greater_equal\n",
      "  self.width = np.around(np.sum((self.aln>=0)*self.sw, 0) / np.sum(self.sw, dtype='|f8'), decimals=2)\n",
      "GPL Ghostscript 10.02.1: Unrecoverable error, exit code 1\n"
     ]
    },
    {
     "name": "stdout",
     "output_type": "stream",
     "text": [
      "~/seq2logo-2.1/Seq2Logo.py -f /mnt/hgfs/G/Micro_Maxquant_v2/results/Gibbs/CRC02_2604150/cores/gibbs.4of4.core -o /mnt/hgfs/G/Micro_Maxquant_v2/results/Gibbs/CRC02_2604150/visulization/gibbs_logos_4of4 -I 2 -p 540x400 --format PDF,PNG -b 200 -C 2 -t \"Group 4 of 4\"\n",
      "Error: /unknownerror in --.FAPIBuildChar--\n",
      "Operand stack:   --dict:17/19(ro)(G)--   67\n",
      "Execution stack:   %interp_exit   .runexec2   --nostringval--   --nostringval--   --nostringval--   2   %stopped_push   --nostringval--   --nostringval--   --nostringval--   false   1   %stopped_push   1928   1   3   %oparray_pop   1927   1   3   %oparray_pop   1926   1   3   %oparray_pop   --nostringval--   1912   1   3   %oparray_pop   1785   1   3   %oparray_pop   --nostringval--   %errorexec_pop   .runexec2   --nostringval--   --nostringval--   --nostringval--   2   %stopped_push   --nostringval--   --nostringval--   --nostringval--   --nostringval--   --nostringval--   %finish_show   --nostringval--   --nostringval--   11   3   0   --nostringval--   (gs_show_enum)   %op_show_continue\n",
      "Dictionary stack:   --dict:747/1123(ro)(G)--   --dict:0/20(G)--   --dict:184/200(L)--\n",
      "Current allocation mode is local\n",
      "Last OS error: No such file or directoryCurrent file position is 18066\n"
     ]
    },
    {
     "name": "stderr",
     "output_type": "stream",
     "text": [
      "\n",
      "inputType: RAW\n",
      "/home/guanxiangyu/seq2logo-2.1/etc/Seq2Logo_module.py:535: RuntimeWarning: invalid value encountered in greater_equal\n",
      "  self.width = np.around(np.sum((self.aln>=0)*self.sw, 0) / np.sum(self.sw, dtype='|f8'), decimals=2)\n",
      "GPL Ghostscript 10.02.1: Unrecoverable error, exit code 1\n"
     ]
    },
    {
     "name": "stdout",
     "output_type": "stream",
     "text": [
      "~/seq2logo-2.1/Seq2Logo.py -f /mnt/hgfs/G/Micro_Maxquant_v2/results/Gibbs/CRC03_2610207/cores/gibbs.1of6.core -o /mnt/hgfs/G/Micro_Maxquant_v2/results/Gibbs/CRC03_2610207/visulization/gibbs_logos_1of6 -I 2 -p 540x400 --format PDF,PNG -b 200 -C 2 -t \"Group 1 of 6\"\n",
      "Error: /unknownerror in --.FAPIBuildChar--\n",
      "Operand stack:   --dict:17/19(ro)(G)--   67\n",
      "Execution stack:   %interp_exit   .runexec2   --nostringval--   --nostringval--   --nostringval--   2   %stopped_push   --nostringval--   --nostringval--   --nostringval--   false   1   %stopped_push   1928   1   3   %oparray_pop   1927   1   3   %oparray_pop   1926   1   3   %oparray_pop   --nostringval--   1912   1   3   %oparray_pop   1785   1   3   %oparray_pop   --nostringval--   %errorexec_pop   .runexec2   --nostringval--   --nostringval--   --nostringval--   2   %stopped_push   --nostringval--   --nostringval--   --nostringval--   --nostringval--   --nostringval--   %finish_show   --nostringval--   --nostringval--   11   3   0   --nostringval--   (gs_show_enum)   %op_show_continue\n",
      "Dictionary stack:   --dict:747/1123(ro)(G)--   --dict:0/20(G)--   --dict:184/200(L)--\n",
      "Current allocation mode is local\n",
      "Last OS error: No such file or directoryCurrent file position is 21271\n"
     ]
    },
    {
     "name": "stderr",
     "output_type": "stream",
     "text": [
      "\n",
      "inputType: RAW\n",
      "/home/guanxiangyu/seq2logo-2.1/etc/Seq2Logo_module.py:535: RuntimeWarning: invalid value encountered in greater_equal\n",
      "  self.width = np.around(np.sum((self.aln>=0)*self.sw, 0) / np.sum(self.sw, dtype='|f8'), decimals=2)\n",
      "GPL Ghostscript 10.02.1: Unrecoverable error, exit code 1\n",
      "\n"
     ]
    },
    {
     "name": "stdout",
     "output_type": "stream",
     "text": [
      "~/seq2logo-2.1/Seq2Logo.py -f /mnt/hgfs/G/Micro_Maxquant_v2/results/Gibbs/CRC03_2610207/cores/gibbs.2of6.core -o /mnt/hgfs/G/Micro_Maxquant_v2/results/Gibbs/CRC03_2610207/visulization/gibbs_logos_2of6 -I 2 -p 540x400 --format PDF,PNG -b 200 -C 2 -t \"Group 2 of 6\"\n",
      "Error: /unknownerror in --.FAPIBuildChar--\n",
      "Operand stack:   --dict:17/19(ro)(G)--   67\n",
      "Execution stack:   %interp_exit   .runexec2   --nostringval--   --nostringval--   --nostringval--   2   %stopped_push   --nostringval--   --nostringval--   --nostringval--   false   1   %stopped_push   1928   1   3   %oparray_pop   1927   1   3   %oparray_pop   1926   1   3   %oparray_pop   --nostringval--   1912   1   3   %oparray_pop   1785   1   3   %oparray_pop   --nostringval--   %errorexec_pop   .runexec2   --nostringval--   --nostringval--   --nostringval--   2   %stopped_push   --nostringval--   --nostringval--   --nostringval--   --nostringval--   --nostringval--   %finish_show   --nostringval--   --nostringval--   11   3   0   --nostringval--   (gs_show_enum)   %op_show_continue\n",
      "Dictionary stack:   --dict:747/1123(ro)(G)--   --dict:0/20(G)--   --dict:184/200(L)--\n",
      "Current allocation mode is local\n",
      "Last OS error: No such file or directoryCurrent file position is 18826\n",
      "~/seq2logo-2.1/Seq2Logo.py -f /mnt/hgfs/G/Micro_Maxquant_v2/results/Gibbs/CRC03_2610207/cores/gibbs.3of6.core -o /mnt/hgfs/G/Micro_Maxquant_v2/results/Gibbs/CRC03_2610207/visulization/gibbs_logos_3of6 -I 2 -p 540x400 --format PDF,PNG -b 200 -C 2 -t \"Group 3 of 6\"\n"
     ]
    },
    {
     "name": "stderr",
     "output_type": "stream",
     "text": [
      "inputType: RAW\n",
      "/home/guanxiangyu/seq2logo-2.1/etc/Seq2Logo_module.py:535: RuntimeWarning: invalid value encountered in greater_equal\n",
      "  self.width = np.around(np.sum((self.aln>=0)*self.sw, 0) / np.sum(self.sw, dtype='|f8'), decimals=2)\n",
      "\n",
      "inputType: RAW\n",
      "/home/guanxiangyu/seq2logo-2.1/etc/Seq2Logo_module.py:535: RuntimeWarning: invalid value encountered in greater_equal\n",
      "  self.width = np.around(np.sum((self.aln>=0)*self.sw, 0) / np.sum(self.sw, dtype='|f8'), decimals=2)\n"
     ]
    },
    {
     "name": "stdout",
     "output_type": "stream",
     "text": [
      "~/seq2logo-2.1/Seq2Logo.py -f /mnt/hgfs/G/Micro_Maxquant_v2/results/Gibbs/CRC03_2610207/cores/gibbs.4of6.core -o /mnt/hgfs/G/Micro_Maxquant_v2/results/Gibbs/CRC03_2610207/visulization/gibbs_logos_4of6 -I 2 -p 540x400 --format PDF,PNG -b 200 -C 2 -t \"Group 4 of 6\"\n"
     ]
    },
    {
     "name": "stderr",
     "output_type": "stream",
     "text": [
      "\n",
      "inputType: RAW\n",
      "/home/guanxiangyu/seq2logo-2.1/etc/Seq2Logo_module.py:535: RuntimeWarning: invalid value encountered in greater_equal\n",
      "  self.width = np.around(np.sum((self.aln>=0)*self.sw, 0) / np.sum(self.sw, dtype='|f8'), decimals=2)\n"
     ]
    },
    {
     "name": "stdout",
     "output_type": "stream",
     "text": [
      "~/seq2logo-2.1/Seq2Logo.py -f /mnt/hgfs/G/Micro_Maxquant_v2/results/Gibbs/CRC03_2610207/cores/gibbs.5of6.core -o /mnt/hgfs/G/Micro_Maxquant_v2/results/Gibbs/CRC03_2610207/visulization/gibbs_logos_5of6 -I 2 -p 540x400 --format PDF,PNG -b 200 -C 2 -t \"Group 5 of 6\"\n"
     ]
    },
    {
     "name": "stderr",
     "output_type": "stream",
     "text": [
      "\n",
      "inputType: RAW\n",
      "/home/guanxiangyu/seq2logo-2.1/etc/Seq2Logo_module.py:535: RuntimeWarning: invalid value encountered in greater_equal\n",
      "  self.width = np.around(np.sum((self.aln>=0)*self.sw, 0) / np.sum(self.sw, dtype='|f8'), decimals=2)\n",
      "GPL Ghostscript 10.02.1: Unrecoverable error, exit code 1\n"
     ]
    },
    {
     "name": "stdout",
     "output_type": "stream",
     "text": [
      "~/seq2logo-2.1/Seq2Logo.py -f /mnt/hgfs/G/Micro_Maxquant_v2/results/Gibbs/CRC03_2610207/cores/gibbs.6of6.core -o /mnt/hgfs/G/Micro_Maxquant_v2/results/Gibbs/CRC03_2610207/visulization/gibbs_logos_6of6 -I 2 -p 540x400 --format PDF,PNG -b 200 -C 2 -t \"Group 6 of 6\"\n",
      "Error: /unknownerror in --.FAPIBuildChar--\n",
      "Operand stack:   --dict:17/19(ro)(G)--   67\n",
      "Execution stack:   %interp_exit   .runexec2   --nostringval--   --nostringval--   --nostringval--   2   %stopped_push   --nostringval--   --nostringval--   --nostringval--   false   1   %stopped_push   1928   1   3   %oparray_pop   1927   1   3   %oparray_pop   1926   1   3   %oparray_pop   --nostringval--   1912   1   3   %oparray_pop   1785   1   3   %oparray_pop   --nostringval--   %errorexec_pop   .runexec2   --nostringval--   --nostringval--   --nostringval--   2   %stopped_push   --nostringval--   --nostringval--   --nostringval--   --nostringval--   --nostringval--   %finish_show   --nostringval--   --nostringval--   11   3   0   --nostringval--   (gs_show_enum)   %op_show_continue\n",
      "Dictionary stack:   --dict:747/1123(ro)(G)--   --dict:0/20(G)--   --dict:184/200(L)--\n",
      "Current allocation mode is local\n",
      "Last OS error: No such file or directoryCurrent file position is 21505\n"
     ]
    },
    {
     "name": "stderr",
     "output_type": "stream",
     "text": [
      "\n",
      "inputType: RAW\n",
      "/home/guanxiangyu/seq2logo-2.1/etc/Seq2Logo_module.py:535: RuntimeWarning: invalid value encountered in greater_equal\n",
      "  self.width = np.around(np.sum((self.aln>=0)*self.sw, 0) / np.sum(self.sw, dtype='|f8'), decimals=2)\n"
     ]
    },
    {
     "name": "stdout",
     "output_type": "stream",
     "text": [
      "~/seq2logo-2.1/Seq2Logo.py -f /mnt/hgfs/G/Micro_Maxquant_v2/results/Gibbs/CRC04_2622916/cores/gibbs.1of6.core -o /mnt/hgfs/G/Micro_Maxquant_v2/results/Gibbs/CRC04_2622916/visulization/gibbs_logos_1of6 -I 2 -p 540x400 --format PDF,PNG -b 200 -C 2 -t \"Group 1 of 6\"\n"
     ]
    },
    {
     "name": "stderr",
     "output_type": "stream",
     "text": [
      "\n",
      "inputType: RAW\n",
      "/home/guanxiangyu/seq2logo-2.1/etc/Seq2Logo_module.py:535: RuntimeWarning: invalid value encountered in greater_equal\n",
      "  self.width = np.around(np.sum((self.aln>=0)*self.sw, 0) / np.sum(self.sw, dtype='|f8'), decimals=2)\n"
     ]
    },
    {
     "name": "stdout",
     "output_type": "stream",
     "text": [
      "~/seq2logo-2.1/Seq2Logo.py -f /mnt/hgfs/G/Micro_Maxquant_v2/results/Gibbs/CRC04_2622916/cores/gibbs.2of6.core -o /mnt/hgfs/G/Micro_Maxquant_v2/results/Gibbs/CRC04_2622916/visulization/gibbs_logos_2of6 -I 2 -p 540x400 --format PDF,PNG -b 200 -C 2 -t \"Group 2 of 6\"\n"
     ]
    },
    {
     "name": "stderr",
     "output_type": "stream",
     "text": [
      "\n",
      "inputType: RAW\n",
      "/home/guanxiangyu/seq2logo-2.1/etc/Seq2Logo_module.py:535: RuntimeWarning: invalid value encountered in greater_equal\n",
      "  self.width = np.around(np.sum((self.aln>=0)*self.sw, 0) / np.sum(self.sw, dtype='|f8'), decimals=2)\n"
     ]
    },
    {
     "name": "stdout",
     "output_type": "stream",
     "text": [
      "~/seq2logo-2.1/Seq2Logo.py -f /mnt/hgfs/G/Micro_Maxquant_v2/results/Gibbs/CRC04_2622916/cores/gibbs.3of6.core -o /mnt/hgfs/G/Micro_Maxquant_v2/results/Gibbs/CRC04_2622916/visulization/gibbs_logos_3of6 -I 2 -p 540x400 --format PDF,PNG -b 200 -C 2 -t \"Group 3 of 6\"\n"
     ]
    },
    {
     "name": "stderr",
     "output_type": "stream",
     "text": [
      "\n",
      "inputType: RAW\n",
      "/home/guanxiangyu/seq2logo-2.1/etc/Seq2Logo_module.py:535: RuntimeWarning: invalid value encountered in greater_equal\n",
      "  self.width = np.around(np.sum((self.aln>=0)*self.sw, 0) / np.sum(self.sw, dtype='|f8'), decimals=2)\n",
      "GPL Ghostscript 10.02.1: Unrecoverable error, exit code 1\n"
     ]
    },
    {
     "name": "stdout",
     "output_type": "stream",
     "text": [
      "~/seq2logo-2.1/Seq2Logo.py -f /mnt/hgfs/G/Micro_Maxquant_v2/results/Gibbs/CRC04_2622916/cores/gibbs.4of6.core -o /mnt/hgfs/G/Micro_Maxquant_v2/results/Gibbs/CRC04_2622916/visulization/gibbs_logos_4of6 -I 2 -p 540x400 --format PDF,PNG -b 200 -C 2 -t \"Group 4 of 6\"\n",
      "Error: /unknownerror in --.FAPIBuildChar--\n",
      "Operand stack:   --dict:17/19(ro)(G)--   87\n",
      "Execution stack:   %interp_exit   .runexec2   --nostringval--   --nostringval--   --nostringval--   2   %stopped_push   --nostringval--   --nostringval--   --nostringval--   false   1   %stopped_push   1928   1   3   %oparray_pop   1927   1   3   %oparray_pop   1926   1   3   %oparray_pop   --nostringval--   1912   1   3   %oparray_pop   1785   1   3   %oparray_pop   --nostringval--   %errorexec_pop   .runexec2   --nostringval--   --nostringval--   --nostringval--   2   %stopped_push   --nostringval--   --nostringval--   --nostringval--   --nostringval--   --nostringval--   %finish_show   --nostringval--   --nostringval--   11   3   0   --nostringval--   (gs_show_enum)   %op_show_continue\n",
      "Dictionary stack:   --dict:747/1123(ro)(G)--   --dict:0/20(G)--   --dict:184/200(L)--\n",
      "Current allocation mode is local\n",
      "Last OS error: No such file or directoryCurrent file position is 15347\n"
     ]
    },
    {
     "name": "stderr",
     "output_type": "stream",
     "text": [
      "\n",
      "inputType: RAW\n",
      "/home/guanxiangyu/seq2logo-2.1/etc/Seq2Logo_module.py:535: RuntimeWarning: invalid value encountered in greater_equal\n",
      "  self.width = np.around(np.sum((self.aln>=0)*self.sw, 0) / np.sum(self.sw, dtype='|f8'), decimals=2)\n"
     ]
    },
    {
     "name": "stdout",
     "output_type": "stream",
     "text": [
      "~/seq2logo-2.1/Seq2Logo.py -f /mnt/hgfs/G/Micro_Maxquant_v2/results/Gibbs/CRC04_2622916/cores/gibbs.5of6.core -o /mnt/hgfs/G/Micro_Maxquant_v2/results/Gibbs/CRC04_2622916/visulization/gibbs_logos_5of6 -I 2 -p 540x400 --format PDF,PNG -b 200 -C 2 -t \"Group 5 of 6\"\n"
     ]
    },
    {
     "name": "stderr",
     "output_type": "stream",
     "text": [
      "\n",
      "inputType: RAW\n",
      "/home/guanxiangyu/seq2logo-2.1/etc/Seq2Logo_module.py:535: RuntimeWarning: invalid value encountered in greater_equal\n",
      "  self.width = np.around(np.sum((self.aln>=0)*self.sw, 0) / np.sum(self.sw, dtype='|f8'), decimals=2)\n",
      "GPL Ghostscript 10.02.1: Unrecoverable error, exit code 1\n"
     ]
    },
    {
     "name": "stdout",
     "output_type": "stream",
     "text": [
      "~/seq2logo-2.1/Seq2Logo.py -f /mnt/hgfs/G/Micro_Maxquant_v2/results/Gibbs/CRC04_2622916/cores/gibbs.6of6.core -o /mnt/hgfs/G/Micro_Maxquant_v2/results/Gibbs/CRC04_2622916/visulization/gibbs_logos_6of6 -I 2 -p 540x400 --format PDF,PNG -b 200 -C 2 -t \"Group 6 of 6\"\n",
      "Error: /unknownerror in --.FAPIBuildChar--\n",
      "Operand stack:   --dict:17/19(ro)(G)--   71\n",
      "Execution stack:   %interp_exit   .runexec2   --nostringval--   --nostringval--   --nostringval--   2   %stopped_push   --nostringval--   --nostringval--   --nostringval--   false   1   %stopped_push   1928   1   3   %oparray_pop   1927   1   3   %oparray_pop   1926   1   3   %oparray_pop   --nostringval--   1912   1   3   %oparray_pop   1785   1   3   %oparray_pop   --nostringval--   %errorexec_pop   .runexec2   --nostringval--   --nostringval--   --nostringval--   2   %stopped_push   --nostringval--   --nostringval--   --nostringval--   --nostringval--   --nostringval--   %finish_show   --nostringval--   --nostringval--   11   3   0   --nostringval--   (gs_show_enum)   %op_show_continue\n",
      "Dictionary stack:   --dict:747/1123(ro)(G)--   --dict:0/20(G)--   --dict:184/200(L)--\n",
      "Current allocation mode is local\n",
      "Last OS error: No such file or directoryCurrent file position is 21744\n"
     ]
    },
    {
     "name": "stderr",
     "output_type": "stream",
     "text": [
      "\n",
      "inputType: RAW\n",
      "/home/guanxiangyu/seq2logo-2.1/etc/Seq2Logo_module.py:535: RuntimeWarning: invalid value encountered in greater_equal\n",
      "  self.width = np.around(np.sum((self.aln>=0)*self.sw, 0) / np.sum(self.sw, dtype='|f8'), decimals=2)\n"
     ]
    },
    {
     "name": "stdout",
     "output_type": "stream",
     "text": [
      "~/seq2logo-2.1/Seq2Logo.py -f /mnt/hgfs/G/Micro_Maxquant_v2/results/Gibbs/CRC05_2659801/cores/gibbs.1of6.core -o /mnt/hgfs/G/Micro_Maxquant_v2/results/Gibbs/CRC05_2659801/visulization/gibbs_logos_1of6 -I 2 -p 540x400 --format PDF,PNG -b 200 -C 2 -t \"Group 1 of 6\"\n"
     ]
    },
    {
     "name": "stderr",
     "output_type": "stream",
     "text": [
      "\n",
      "inputType: RAW\n",
      "/home/guanxiangyu/seq2logo-2.1/etc/Seq2Logo_module.py:535: RuntimeWarning: invalid value encountered in greater_equal\n",
      "  self.width = np.around(np.sum((self.aln>=0)*self.sw, 0) / np.sum(self.sw, dtype='|f8'), decimals=2)\n",
      "GPL Ghostscript 10.02.1: Unrecoverable error, exit code 1\n"
     ]
    },
    {
     "name": "stdout",
     "output_type": "stream",
     "text": [
      "~/seq2logo-2.1/Seq2Logo.py -f /mnt/hgfs/G/Micro_Maxquant_v2/results/Gibbs/CRC05_2659801/cores/gibbs.2of6.core -o /mnt/hgfs/G/Micro_Maxquant_v2/results/Gibbs/CRC05_2659801/visulization/gibbs_logos_2of6 -I 2 -p 540x400 --format PDF,PNG -b 200 -C 2 -t \"Group 2 of 6\"\n",
      "Error: /unknownerror in --.FAPIBuildChar--\n",
      "Operand stack:   --dict:17/19(ro)(G)--   82\n",
      "Execution stack:   %interp_exit   .runexec2   --nostringval--   --nostringval--   --nostringval--   2   %stopped_push   --nostringval--   --nostringval--   --nostringval--   false   1   %stopped_push   1928   1   3   %oparray_pop   1927   1   3   %oparray_pop   1926   1   3   %oparray_pop   --nostringval--   1912   1   3   %oparray_pop   1785   1   3   %oparray_pop   --nostringval--   %errorexec_pop   .runexec2   --nostringval--   --nostringval--   --nostringval--   2   %stopped_push   --nostringval--   --nostringval--   --nostringval--   --nostringval--   --nostringval--   %finish_show   --nostringval--   --nostringval--   11   3   0   --nostringval--   (gs_show_enum)   %op_show_continue\n",
      "Dictionary stack:   --dict:747/1123(ro)(G)--   --dict:0/20(G)--   --dict:184/200(L)--\n",
      "Current allocation mode is local\n",
      "Last OS error: No such file or directoryCurrent file position is 19068\n"
     ]
    },
    {
     "name": "stderr",
     "output_type": "stream",
     "text": [
      "\n",
      "inputType: RAW\n",
      "/home/guanxiangyu/seq2logo-2.1/etc/Seq2Logo_module.py:535: RuntimeWarning: invalid value encountered in greater_equal\n",
      "  self.width = np.around(np.sum((self.aln>=0)*self.sw, 0) / np.sum(self.sw, dtype='|f8'), decimals=2)\n"
     ]
    },
    {
     "name": "stdout",
     "output_type": "stream",
     "text": [
      "~/seq2logo-2.1/Seq2Logo.py -f /mnt/hgfs/G/Micro_Maxquant_v2/results/Gibbs/CRC05_2659801/cores/gibbs.3of6.core -o /mnt/hgfs/G/Micro_Maxquant_v2/results/Gibbs/CRC05_2659801/visulization/gibbs_logos_3of6 -I 2 -p 540x400 --format PDF,PNG -b 200 -C 2 -t \"Group 3 of 6\"\n"
     ]
    },
    {
     "name": "stderr",
     "output_type": "stream",
     "text": [
      "\n",
      "inputType: RAW\n",
      "/home/guanxiangyu/seq2logo-2.1/etc/Seq2Logo_module.py:535: RuntimeWarning: invalid value encountered in greater_equal\n",
      "  self.width = np.around(np.sum((self.aln>=0)*self.sw, 0) / np.sum(self.sw, dtype='|f8'), decimals=2)\n",
      "GPL Ghostscript 10.02.1: Unrecoverable error, exit code 1\n"
     ]
    },
    {
     "name": "stdout",
     "output_type": "stream",
     "text": [
      "~/seq2logo-2.1/Seq2Logo.py -f /mnt/hgfs/G/Micro_Maxquant_v2/results/Gibbs/CRC05_2659801/cores/gibbs.4of6.core -o /mnt/hgfs/G/Micro_Maxquant_v2/results/Gibbs/CRC05_2659801/visulization/gibbs_logos_4of6 -I 2 -p 540x400 --format PDF,PNG -b 200 -C 2 -t \"Group 4 of 6\"\n",
      "Error: /unknownerror in --.FAPIBuildChar--\n",
      "Operand stack:   --dict:17/19(ro)(G)--   67\n",
      "Execution stack:   %interp_exit   .runexec2   --nostringval--   --nostringval--   --nostringval--   2   %stopped_push   --nostringval--   --nostringval--   --nostringval--   false   1   %stopped_push   1928   1   3   %oparray_pop   1927   1   3   %oparray_pop   1926   1   3   %oparray_pop   --nostringval--   1912   1   3   %oparray_pop   1785   1   3   %oparray_pop   --nostringval--   %errorexec_pop   .runexec2   --nostringval--   --nostringval--   --nostringval--   2   %stopped_push   --nostringval--   --nostringval--   --nostringval--   --nostringval--   --nostringval--   %finish_show   --nostringval--   --nostringval--   11   3   0   --nostringval--   (gs_show_enum)   %op_show_continue\n",
      "Dictionary stack:   --dict:747/1123(ro)(G)--   --dict:0/20(G)--   --dict:184/200(L)--\n",
      "Current allocation mode is local\n",
      "Last OS error: No such file or directoryCurrent file position is 19747\n"
     ]
    },
    {
     "name": "stderr",
     "output_type": "stream",
     "text": [
      "\n",
      "inputType: RAW\n",
      "/home/guanxiangyu/seq2logo-2.1/etc/Seq2Logo_module.py:535: RuntimeWarning: invalid value encountered in greater_equal\n",
      "  self.width = np.around(np.sum((self.aln>=0)*self.sw, 0) / np.sum(self.sw, dtype='|f8'), decimals=2)\n",
      "GPL Ghostscript 10.02.1: Unrecoverable error, exit code 1\n"
     ]
    },
    {
     "name": "stdout",
     "output_type": "stream",
     "text": [
      "~/seq2logo-2.1/Seq2Logo.py -f /mnt/hgfs/G/Micro_Maxquant_v2/results/Gibbs/CRC05_2659801/cores/gibbs.5of6.core -o /mnt/hgfs/G/Micro_Maxquant_v2/results/Gibbs/CRC05_2659801/visulization/gibbs_logos_5of6 -I 2 -p 540x400 --format PDF,PNG -b 200 -C 2 -t \"Group 5 of 6\"\n",
      "Error: /unknownerror in --.FAPIBuildChar--\n",
      "Operand stack:   --dict:17/19(ro)(G)--   82\n",
      "Execution stack:   %interp_exit   .runexec2   --nostringval--   --nostringval--   --nostringval--   2   %stopped_push   --nostringval--   --nostringval--   --nostringval--   false   1   %stopped_push   1928   1   3   %oparray_pop   1927   1   3   %oparray_pop   1926   1   3   %oparray_pop   --nostringval--   1912   1   3   %oparray_pop   1785   1   3   %oparray_pop   --nostringval--   %errorexec_pop   .runexec2   --nostringval--   --nostringval--   --nostringval--   2   %stopped_push   --nostringval--   --nostringval--   --nostringval--   --nostringval--   --nostringval--   %finish_show   --nostringval--   --nostringval--   11   3   0   --nostringval--   (gs_show_enum)   %op_show_continue\n",
      "Dictionary stack:   --dict:747/1123(ro)(G)--   --dict:0/20(G)--   --dict:184/200(L)--\n",
      "Current allocation mode is local\n",
      "Last OS error: No such file or directoryCurrent file position is 18186\n"
     ]
    },
    {
     "name": "stderr",
     "output_type": "stream",
     "text": [
      "\n",
      "inputType: RAW\n",
      "/home/guanxiangyu/seq2logo-2.1/etc/Seq2Logo_module.py:535: RuntimeWarning: invalid value encountered in greater_equal\n",
      "  self.width = np.around(np.sum((self.aln>=0)*self.sw, 0) / np.sum(self.sw, dtype='|f8'), decimals=2)\n",
      "GPL Ghostscript 10.02.1: Unrecoverable error, exit code 1\n"
     ]
    },
    {
     "name": "stdout",
     "output_type": "stream",
     "text": [
      "~/seq2logo-2.1/Seq2Logo.py -f /mnt/hgfs/G/Micro_Maxquant_v2/results/Gibbs/CRC05_2659801/cores/gibbs.6of6.core -o /mnt/hgfs/G/Micro_Maxquant_v2/results/Gibbs/CRC05_2659801/visulization/gibbs_logos_6of6 -I 2 -p 540x400 --format PDF,PNG -b 200 -C 2 -t \"Group 6 of 6\"\n",
      "Error: /unknownerror in --.FAPIBuildChar--\n",
      "Operand stack:   --dict:17/19(ro)(G)--   67\n",
      "Execution stack:   %interp_exit   .runexec2   --nostringval--   --nostringval--   --nostringval--   2   %stopped_push   --nostringval--   --nostringval--   --nostringval--   false   1   %stopped_push   1928   1   3   %oparray_pop   1927   1   3   %oparray_pop   1926   1   3   %oparray_pop   --nostringval--   1912   1   3   %oparray_pop   1785   1   3   %oparray_pop   --nostringval--   %errorexec_pop   .runexec2   --nostringval--   --nostringval--   --nostringval--   2   %stopped_push   --nostringval--   --nostringval--   --nostringval--   --nostringval--   --nostringval--   %finish_show   --nostringval--   --nostringval--   11   3   0   --nostringval--   (gs_show_enum)   %op_show_continue\n",
      "Dictionary stack:   --dict:747/1123(ro)(G)--   --dict:0/20(G)--   --dict:184/200(L)--\n",
      "Current allocation mode is local\n",
      "Last OS error: No such file or directoryCurrent file position is 21340\n"
     ]
    },
    {
     "name": "stderr",
     "output_type": "stream",
     "text": [
      "\n",
      "inputType: RAW\n",
      "/home/guanxiangyu/seq2logo-2.1/etc/Seq2Logo_module.py:535: RuntimeWarning: invalid value encountered in greater_equal\n",
      "  self.width = np.around(np.sum((self.aln>=0)*self.sw, 0) / np.sum(self.sw, dtype='|f8'), decimals=2)\n",
      "GPL Ghostscript 10.02.1: Unrecoverable error, exit code 1\n"
     ]
    },
    {
     "name": "stdout",
     "output_type": "stream",
     "text": [
      "~/seq2logo-2.1/Seq2Logo.py -f /mnt/hgfs/G/Micro_Maxquant_v2/results/Gibbs/CRC06_2675057/cores/gibbs.1of6.core -o /mnt/hgfs/G/Micro_Maxquant_v2/results/Gibbs/CRC06_2675057/visulization/gibbs_logos_1of6 -I 2 -p 540x400 --format PDF,PNG -b 200 -C 2 -t \"Group 1 of 6\"\n",
      "Error: /unknownerror in --.FAPIBuildChar--\n",
      "Operand stack:   --dict:17/19(ro)(G)--   65\n",
      "Execution stack:   %interp_exit   .runexec2   --nostringval--   --nostringval--   --nostringval--   2   %stopped_push   --nostringval--   --nostringval--   --nostringval--   false   1   %stopped_push   1928   1   3   %oparray_pop   1927   1   3   %oparray_pop   1926   1   3   %oparray_pop   --nostringval--   1912   1   3   %oparray_pop   1785   1   3   %oparray_pop   --nostringval--   %errorexec_pop   .runexec2   --nostringval--   --nostringval--   --nostringval--   2   %stopped_push   --nostringval--   --nostringval--   --nostringval--   --nostringval--   --nostringval--   %finish_show   --nostringval--   --nostringval--   11   3   0   --nostringval--   (gs_show_enum)   %op_show_continue\n",
      "Dictionary stack:   --dict:747/1123(ro)(G)--   --dict:0/20(G)--   --dict:184/200(L)--\n",
      "Current allocation mode is local\n",
      "Last OS error: No such file or directoryCurrent file position is 20066\n"
     ]
    },
    {
     "name": "stderr",
     "output_type": "stream",
     "text": [
      "\n",
      "inputType: RAW\n",
      "/home/guanxiangyu/seq2logo-2.1/etc/Seq2Logo_module.py:535: RuntimeWarning: invalid value encountered in greater_equal\n",
      "  self.width = np.around(np.sum((self.aln>=0)*self.sw, 0) / np.sum(self.sw, dtype='|f8'), decimals=2)\n"
     ]
    },
    {
     "name": "stdout",
     "output_type": "stream",
     "text": [
      "~/seq2logo-2.1/Seq2Logo.py -f /mnt/hgfs/G/Micro_Maxquant_v2/results/Gibbs/CRC06_2675057/cores/gibbs.2of6.core -o /mnt/hgfs/G/Micro_Maxquant_v2/results/Gibbs/CRC06_2675057/visulization/gibbs_logos_2of6 -I 2 -p 540x400 --format PDF,PNG -b 200 -C 2 -t \"Group 2 of 6\"\n"
     ]
    },
    {
     "name": "stderr",
     "output_type": "stream",
     "text": [
      "\n",
      "inputType: RAW\n",
      "/home/guanxiangyu/seq2logo-2.1/etc/Seq2Logo_module.py:535: RuntimeWarning: invalid value encountered in greater_equal\n",
      "  self.width = np.around(np.sum((self.aln>=0)*self.sw, 0) / np.sum(self.sw, dtype='|f8'), decimals=2)\n"
     ]
    },
    {
     "name": "stdout",
     "output_type": "stream",
     "text": [
      "~/seq2logo-2.1/Seq2Logo.py -f /mnt/hgfs/G/Micro_Maxquant_v2/results/Gibbs/CRC06_2675057/cores/gibbs.3of6.core -o /mnt/hgfs/G/Micro_Maxquant_v2/results/Gibbs/CRC06_2675057/visulization/gibbs_logos_3of6 -I 2 -p 540x400 --format PDF,PNG -b 200 -C 2 -t \"Group 3 of 6\"\n"
     ]
    },
    {
     "name": "stderr",
     "output_type": "stream",
     "text": [
      "\n",
      "inputType: RAW\n"
     ]
    },
    {
     "name": "stdout",
     "output_type": "stream",
     "text": [
      "~/seq2logo-2.1/Seq2Logo.py -f /mnt/hgfs/G/Micro_Maxquant_v2/results/Gibbs/CRC06_2675057/cores/gibbs.4of6.core -o /mnt/hgfs/G/Micro_Maxquant_v2/results/Gibbs/CRC06_2675057/visulization/gibbs_logos_4of6 -I 2 -p 540x400 --format PDF,PNG -b 200 -C 2 -t \"Group 4 of 6\"\n"
     ]
    },
    {
     "name": "stderr",
     "output_type": "stream",
     "text": [
      "\n",
      "inputType: RAW\n",
      "/home/guanxiangyu/seq2logo-2.1/etc/Seq2Logo_module.py:535: RuntimeWarning: invalid value encountered in greater_equal\n",
      "  self.width = np.around(np.sum((self.aln>=0)*self.sw, 0) / np.sum(self.sw, dtype='|f8'), decimals=2)\n",
      "GPL Ghostscript 10.02.1: Unrecoverable error, exit code 1\n"
     ]
    },
    {
     "name": "stdout",
     "output_type": "stream",
     "text": [
      "~/seq2logo-2.1/Seq2Logo.py -f /mnt/hgfs/G/Micro_Maxquant_v2/results/Gibbs/CRC06_2675057/cores/gibbs.5of6.core -o /mnt/hgfs/G/Micro_Maxquant_v2/results/Gibbs/CRC06_2675057/visulization/gibbs_logos_5of6 -I 2 -p 540x400 --format PDF,PNG -b 200 -C 2 -t \"Group 5 of 6\"\n",
      "Error: /unknownerror in --.FAPIBuildChar--\n",
      "Operand stack:   --dict:17/19(ro)(G)--   70\n",
      "Execution stack:   %interp_exit   .runexec2   --nostringval--   --nostringval--   --nostringval--   2   %stopped_push   --nostringval--   --nostringval--   --nostringval--   false   1   %stopped_push   1928   1   3   %oparray_pop   1927   1   3   %oparray_pop   1926   1   3   %oparray_pop   --nostringval--   1912   1   3   %oparray_pop   1785   1   3   %oparray_pop   --nostringval--   %errorexec_pop   .runexec2   --nostringval--   --nostringval--   --nostringval--   2   %stopped_push   --nostringval--   --nostringval--   --nostringval--   --nostringval--   --nostringval--   %finish_show   --nostringval--   --nostringval--   11   3   0   --nostringval--   (gs_show_enum)   %op_show_continue\n",
      "Dictionary stack:   --dict:747/1123(ro)(G)--   --dict:0/20(G)--   --dict:184/200(L)--\n",
      "Current allocation mode is local\n",
      "Last OS error: No such file or directoryCurrent file position is 21577\n"
     ]
    },
    {
     "name": "stderr",
     "output_type": "stream",
     "text": [
      "\n",
      "inputType: RAW\n",
      "/home/guanxiangyu/seq2logo-2.1/etc/Seq2Logo_module.py:535: RuntimeWarning: invalid value encountered in greater_equal\n",
      "  self.width = np.around(np.sum((self.aln>=0)*self.sw, 0) / np.sum(self.sw, dtype='|f8'), decimals=2)\n",
      "GPL Ghostscript 10.02.1: Unrecoverable error, exit code 1\n",
      "\n"
     ]
    },
    {
     "name": "stdout",
     "output_type": "stream",
     "text": [
      "~/seq2logo-2.1/Seq2Logo.py -f /mnt/hgfs/G/Micro_Maxquant_v2/results/Gibbs/CRC06_2675057/cores/gibbs.6of6.core -o /mnt/hgfs/G/Micro_Maxquant_v2/results/Gibbs/CRC06_2675057/visulization/gibbs_logos_6of6 -I 2 -p 540x400 --format PDF,PNG -b 200 -C 2 -t \"Group 6 of 6\"\n",
      "Error: /unknownerror in --.FAPIBuildChar--\n",
      "Operand stack:   --dict:17/19(ro)(G)--   67\n",
      "Execution stack:   %interp_exit   .runexec2   --nostringval--   --nostringval--   --nostringval--   2   %stopped_push   --nostringval--   --nostringval--   --nostringval--   false   1   %stopped_push   1928   1   3   %oparray_pop   1927   1   3   %oparray_pop   1926   1   3   %oparray_pop   --nostringval--   1912   1   3   %oparray_pop   1785   1   3   %oparray_pop   --nostringval--   %errorexec_pop   .runexec2   --nostringval--   --nostringval--   --nostringval--   2   %stopped_push   --nostringval--   --nostringval--   --nostringval--   --nostringval--   --nostringval--   %finish_show   --nostringval--   --nostringval--   11   3   0   --nostringval--   (gs_show_enum)   %op_show_continue\n",
      "Dictionary stack:   --dict:747/1123(ro)(G)--   --dict:0/20(G)--   --dict:184/200(L)--\n",
      "Current allocation mode is local\n",
      "Last OS error: No such file or directoryCurrent file position is 17227\n",
      "~/seq2logo-2.1/Seq2Logo.py -f /mnt/hgfs/G/Micro_Maxquant_v2/results/Gibbs/CRC07_3347087/cores/gibbs.1of6.core -o /mnt/hgfs/G/Micro_Maxquant_v2/results/Gibbs/CRC07_3347087/visulization/gibbs_logos_1of6 -I 2 -p 540x400 --format PDF,PNG -b 200 -C 2 -t \"Group 1 of 6\"\n"
     ]
    },
    {
     "name": "stderr",
     "output_type": "stream",
     "text": [
      "inputType: RAW\n",
      "/home/guanxiangyu/seq2logo-2.1/etc/Seq2Logo_module.py:535: RuntimeWarning: invalid value encountered in greater_equal\n",
      "  self.width = np.around(np.sum((self.aln>=0)*self.sw, 0) / np.sum(self.sw, dtype='|f8'), decimals=2)\n",
      "\n"
     ]
    },
    {
     "name": "stdout",
     "output_type": "stream",
     "text": [
      "~/seq2logo-2.1/Seq2Logo.py -f /mnt/hgfs/G/Micro_Maxquant_v2/results/Gibbs/CRC07_3347087/cores/gibbs.2of6.core -o /mnt/hgfs/G/Micro_Maxquant_v2/results/Gibbs/CRC07_3347087/visulization/gibbs_logos_2of6 -I 2 -p 540x400 --format PDF,PNG -b 200 -C 2 -t \"Group 2 of 6\"\n"
     ]
    },
    {
     "name": "stderr",
     "output_type": "stream",
     "text": [
      "inputType: RAW\n",
      "/home/guanxiangyu/seq2logo-2.1/etc/Seq2Logo_module.py:535: RuntimeWarning: invalid value encountered in greater_equal\n",
      "  self.width = np.around(np.sum((self.aln>=0)*self.sw, 0) / np.sum(self.sw, dtype='|f8'), decimals=2)\n",
      "\n"
     ]
    },
    {
     "name": "stdout",
     "output_type": "stream",
     "text": [
      "~/seq2logo-2.1/Seq2Logo.py -f /mnt/hgfs/G/Micro_Maxquant_v2/results/Gibbs/CRC07_3347087/cores/gibbs.3of6.core -o /mnt/hgfs/G/Micro_Maxquant_v2/results/Gibbs/CRC07_3347087/visulization/gibbs_logos_3of6 -I 2 -p 540x400 --format PDF,PNG -b 200 -C 2 -t \"Group 3 of 6\"\n"
     ]
    },
    {
     "name": "stderr",
     "output_type": "stream",
     "text": [
      "inputType: RAW\n",
      "/home/guanxiangyu/seq2logo-2.1/etc/Seq2Logo_module.py:535: RuntimeWarning: invalid value encountered in greater_equal\n",
      "  self.width = np.around(np.sum((self.aln>=0)*self.sw, 0) / np.sum(self.sw, dtype='|f8'), decimals=2)\n",
      "\n"
     ]
    },
    {
     "name": "stdout",
     "output_type": "stream",
     "text": [
      "~/seq2logo-2.1/Seq2Logo.py -f /mnt/hgfs/G/Micro_Maxquant_v2/results/Gibbs/CRC07_3347087/cores/gibbs.4of6.core -o /mnt/hgfs/G/Micro_Maxquant_v2/results/Gibbs/CRC07_3347087/visulization/gibbs_logos_4of6 -I 2 -p 540x400 --format PDF,PNG -b 200 -C 2 -t \"Group 4 of 6\"\n"
     ]
    },
    {
     "name": "stderr",
     "output_type": "stream",
     "text": [
      "inputType: RAW\n",
      "/home/guanxiangyu/seq2logo-2.1/etc/Seq2Logo_module.py:535: RuntimeWarning: invalid value encountered in greater_equal\n",
      "  self.width = np.around(np.sum((self.aln>=0)*self.sw, 0) / np.sum(self.sw, dtype='|f8'), decimals=2)\n",
      "\n"
     ]
    },
    {
     "name": "stdout",
     "output_type": "stream",
     "text": [
      "~/seq2logo-2.1/Seq2Logo.py -f /mnt/hgfs/G/Micro_Maxquant_v2/results/Gibbs/CRC07_3347087/cores/gibbs.5of6.core -o /mnt/hgfs/G/Micro_Maxquant_v2/results/Gibbs/CRC07_3347087/visulization/gibbs_logos_5of6 -I 2 -p 540x400 --format PDF,PNG -b 200 -C 2 -t \"Group 5 of 6\"\n",
      "Error: /unknownerror in --.FAPIBuildChar--\n",
      "Operand stack:   --dict:17/19(ro)(G)--   81\n",
      "Execution stack:   %interp_exit   .runexec2   --nostringval--   --nostringval--   --nostringval--   2   %stopped_push   --nostringval--   --nostringval--   --nostringval--   false   1   %stopped_push   1928   1   3   %oparray_pop   1927   1   3   %oparray_pop   1926   1   3   %oparray_pop   --nostringval--   1912   1   3   %oparray_pop   1785   1   3   %oparray_pop   --nostringval--   %errorexec_pop   .runexec2   --nostringval--   --nostringval--   --nostringval--   2   %stopped_push   --nostringval--   --nostringval--   --nostringval--   --nostringval--   --nostringval--   %finish_show   --nostringval--   --nostringval--   11   3   0   --nostringval--   (gs_show_enum)   %op_show_continue\n",
      "Dictionary stack:   --dict:747/1123(ro)(G)--   --dict:0/20(G)--   --dict:184/200(L)--\n",
      "Current allocation mode is local\n",
      "Last OS error: No such file or directoryCurrent file position is 15703\n",
      "~/seq2logo-2.1/Seq2Logo.py -f /mnt/hgfs/G/Micro_Maxquant_v2/results/Gibbs/CRC07_3347087/cores/gibbs.6of6.core -o /mnt/hgfs/G/Micro_Maxquant_v2/results/Gibbs/CRC07_3347087/visulization/gibbs_logos_6of6 -I 2 -p 540x400 --format PDF,PNG -b 200 -C 2 -t \"Group 6 of 6\"\n"
     ]
    },
    {
     "name": "stderr",
     "output_type": "stream",
     "text": [
      "inputType: RAW\n",
      "/home/guanxiangyu/seq2logo-2.1/etc/Seq2Logo_module.py:535: RuntimeWarning: invalid value encountered in greater_equal\n",
      "  self.width = np.around(np.sum((self.aln>=0)*self.sw, 0) / np.sum(self.sw, dtype='|f8'), decimals=2)\n",
      "GPL Ghostscript 10.02.1: Unrecoverable error, exit code 1\n",
      "\n",
      "inputType: RAW\n",
      "/home/guanxiangyu/seq2logo-2.1/etc/Seq2Logo_module.py:535: RuntimeWarning: invalid value encountered in greater_equal\n",
      "  self.width = np.around(np.sum((self.aln>=0)*self.sw, 0) / np.sum(self.sw, dtype='|f8'), decimals=2)\n"
     ]
    },
    {
     "name": "stdout",
     "output_type": "stream",
     "text": [
      "Error: /unknownerror in --.FAPIBuildChar--\n",
      "Operand stack:   --dict:17/19(ro)(G)--   67\n",
      "Execution stack:   %interp_exit   .runexec2   --nostringval--   --nostringval--   --nostringval--   2   %stopped_push   --nostringval--   --nostringval--   --nostringval--   false   1   %stopped_push   1928   1   3   %oparray_pop   1927   1   3   %oparray_pop   1926   1   3   %oparray_pop   --nostringval--   1912   1   3   %oparray_pop   1785   1   3   %oparray_pop   --nostringval--   %errorexec_pop   .runexec2   --nostringval--   --nostringval--   --nostringval--   2   %stopped_push   --nostringval--   --nostringval--   --nostringval--   --nostringval--   --nostringval--   %finish_show   --nostringval--   --nostringval--   11   3   0   --nostringval--   (gs_show_enum)   %op_show_continue\n",
      "Dictionary stack:   --dict:747/1123(ro)(G)--   --dict:0/20(G)--   --dict:184/200(L)--\n",
      "Current allocation mode is local\n",
      "Last OS error: No such file or directoryCurrent file position is 15425\n",
      "~/seq2logo-2.1/Seq2Logo.py -f /mnt/hgfs/G/Micro_Maxquant_v2/results/Gibbs/CRC08_3348355/cores/gibbs.1of6.core -o /mnt/hgfs/G/Micro_Maxquant_v2/results/Gibbs/CRC08_3348355/visulization/gibbs_logos_1of6 -I 2 -p 540x400 --format PDF,PNG -b 200 -C 2 -t \"Group 1 of 6\"\n"
     ]
    },
    {
     "name": "stderr",
     "output_type": "stream",
     "text": [
      "GPL Ghostscript 10.02.1: Unrecoverable error, exit code 1\n",
      "\n",
      "inputType: RAW\n",
      "/home/guanxiangyu/seq2logo-2.1/etc/Seq2Logo_module.py:535: RuntimeWarning: invalid value encountered in greater_equal\n",
      "  self.width = np.around(np.sum((self.aln>=0)*self.sw, 0) / np.sum(self.sw, dtype='|f8'), decimals=2)\n",
      "\n",
      "inputType: RAW\n",
      "/home/guanxiangyu/seq2logo-2.1/etc/Seq2Logo_module.py:535: RuntimeWarning: invalid value encountered in greater_equal\n",
      "  self.width = np.around(np.sum((self.aln>=0)*self.sw, 0) / np.sum(self.sw, dtype='|f8'), decimals=2)\n",
      "GPL Ghostscript 10.02.1: Unrecoverable error, exit code 1\n"
     ]
    },
    {
     "name": "stdout",
     "output_type": "stream",
     "text": [
      "~/seq2logo-2.1/Seq2Logo.py -f /mnt/hgfs/G/Micro_Maxquant_v2/results/Gibbs/CRC08_3348355/cores/gibbs.2of6.core -o /mnt/hgfs/G/Micro_Maxquant_v2/results/Gibbs/CRC08_3348355/visulization/gibbs_logos_2of6 -I 2 -p 540x400 --format PDF,PNG -b 200 -C 2 -t \"Group 2 of 6\"\n",
      "Error: /unknownerror in --.FAPIBuildChar--\n",
      "Operand stack:   --dict:17/19(ro)(G)--   67\n",
      "Execution stack:   %interp_exit   .runexec2   --nostringval--   --nostringval--   --nostringval--   2   %stopped_push   --nostringval--   --nostringval--   --nostringval--   false   1   %stopped_push   1928   1   3   %oparray_pop   1927   1   3   %oparray_pop   1926   1   3   %oparray_pop   --nostringval--   1912   1   3   %oparray_pop   1785   1   3   %oparray_pop   --nostringval--   %errorexec_pop   .runexec2   --nostringval--   --nostringval--   --nostringval--   2   %stopped_push   --nostringval--   --nostringval--   --nostringval--   --nostringval--   --nostringval--   %finish_show   --nostringval--   --nostringval--   11   3   0   --nostringval--   (gs_show_enum)   %op_show_continue\n",
      "Dictionary stack:   --dict:747/1123(ro)(G)--   --dict:0/20(G)--   --dict:184/200(L)--\n",
      "Current allocation mode is local\n",
      "Last OS error: No such file or directoryCurrent file position is 21386\n"
     ]
    },
    {
     "name": "stderr",
     "output_type": "stream",
     "text": [
      "\n",
      "inputType: RAW\n",
      "/home/guanxiangyu/seq2logo-2.1/etc/Seq2Logo_module.py:535: RuntimeWarning: invalid value encountered in greater_equal\n",
      "  self.width = np.around(np.sum((self.aln>=0)*self.sw, 0) / np.sum(self.sw, dtype='|f8'), decimals=2)\n",
      "GPL Ghostscript 10.02.1: Unrecoverable error, exit code 1\n"
     ]
    },
    {
     "name": "stdout",
     "output_type": "stream",
     "text": [
      "~/seq2logo-2.1/Seq2Logo.py -f /mnt/hgfs/G/Micro_Maxquant_v2/results/Gibbs/CRC08_3348355/cores/gibbs.3of6.core -o /mnt/hgfs/G/Micro_Maxquant_v2/results/Gibbs/CRC08_3348355/visulization/gibbs_logos_3of6 -I 2 -p 540x400 --format PDF,PNG -b 200 -C 2 -t \"Group 3 of 6\"\n",
      "Error: /undefinedresult in --div--\n",
      "Operand stack:   45.8146   0.0\n",
      "Execution stack:   %interp_exit   .runexec2   --nostringval--   --nostringval--   --nostringval--   2   %stopped_push   --nostringval--   --nostringval--   --nostringval--   false   1   %stopped_push   1928   1   3   %oparray_pop   1927   1   3   %oparray_pop   1926   1   3   %oparray_pop   --nostringval--   1912   1   3   %oparray_pop   1785   1   3   %oparray_pop   --nostringval--   %errorexec_pop   .runexec2   --nostringval--   --nostringval--   --nostringval--   2   %stopped_push   --nostringval--   --nostringval--   --nostringval--   --nostringval--   --nostringval--   --nostringval--\n",
      "Dictionary stack:   --dict:747/1123(ro)(G)--   --dict:0/20(G)--   --dict:184/200(L)--\n",
      "Current allocation mode is local\n",
      "Last OS error: No such file or directoryCurrent file position is 21540\n"
     ]
    },
    {
     "name": "stderr",
     "output_type": "stream",
     "text": [
      "\n",
      "inputType: RAW\n",
      "/home/guanxiangyu/seq2logo-2.1/etc/Seq2Logo_module.py:535: RuntimeWarning: invalid value encountered in greater_equal\n",
      "  self.width = np.around(np.sum((self.aln>=0)*self.sw, 0) / np.sum(self.sw, dtype='|f8'), decimals=2)\n"
     ]
    },
    {
     "name": "stdout",
     "output_type": "stream",
     "text": [
      "~/seq2logo-2.1/Seq2Logo.py -f /mnt/hgfs/G/Micro_Maxquant_v2/results/Gibbs/CRC08_3348355/cores/gibbs.4of6.core -o /mnt/hgfs/G/Micro_Maxquant_v2/results/Gibbs/CRC08_3348355/visulization/gibbs_logos_4of6 -I 2 -p 540x400 --format PDF,PNG -b 200 -C 2 -t \"Group 4 of 6\"\n"
     ]
    },
    {
     "name": "stderr",
     "output_type": "stream",
     "text": [
      "\n",
      "inputType: RAW\n",
      "/home/guanxiangyu/seq2logo-2.1/etc/Seq2Logo_module.py:535: RuntimeWarning: invalid value encountered in greater_equal\n",
      "  self.width = np.around(np.sum((self.aln>=0)*self.sw, 0) / np.sum(self.sw, dtype='|f8'), decimals=2)\n"
     ]
    },
    {
     "name": "stdout",
     "output_type": "stream",
     "text": [
      "~/seq2logo-2.1/Seq2Logo.py -f /mnt/hgfs/G/Micro_Maxquant_v2/results/Gibbs/CRC08_3348355/cores/gibbs.5of6.core -o /mnt/hgfs/G/Micro_Maxquant_v2/results/Gibbs/CRC08_3348355/visulization/gibbs_logos_5of6 -I 2 -p 540x400 --format PDF,PNG -b 200 -C 2 -t \"Group 5 of 6\"\n"
     ]
    },
    {
     "name": "stderr",
     "output_type": "stream",
     "text": [
      "\n",
      "inputType: RAW\n",
      "/home/guanxiangyu/seq2logo-2.1/etc/Seq2Logo_module.py:535: RuntimeWarning: invalid value encountered in greater_equal\n",
      "  self.width = np.around(np.sum((self.aln>=0)*self.sw, 0) / np.sum(self.sw, dtype='|f8'), decimals=2)\n",
      "GPL Ghostscript 10.02.1: Unrecoverable error, exit code 1\n"
     ]
    },
    {
     "name": "stdout",
     "output_type": "stream",
     "text": [
      "~/seq2logo-2.1/Seq2Logo.py -f /mnt/hgfs/G/Micro_Maxquant_v2/results/Gibbs/CRC08_3348355/cores/gibbs.6of6.core -o /mnt/hgfs/G/Micro_Maxquant_v2/results/Gibbs/CRC08_3348355/visulization/gibbs_logos_6of6 -I 2 -p 540x400 --format PDF,PNG -b 200 -C 2 -t \"Group 6 of 6\"\n",
      "Error: /unknownerror in --.FAPIBuildChar--\n",
      "Operand stack:   --dict:17/19(ro)(G)--   78\n",
      "Execution stack:   %interp_exit   .runexec2   --nostringval--   --nostringval--   --nostringval--   2   %stopped_push   --nostringval--   --nostringval--   --nostringval--   false   1   %stopped_push   1928   1   3   %oparray_pop   1927   1   3   %oparray_pop   1926   1   3   %oparray_pop   --nostringval--   1912   1   3   %oparray_pop   1785   1   3   %oparray_pop   --nostringval--   %errorexec_pop   .runexec2   --nostringval--   --nostringval--   --nostringval--   2   %stopped_push   --nostringval--   --nostringval--   --nostringval--   --nostringval--   --nostringval--   %finish_show   --nostringval--   --nostringval--   11   3   0   --nostringval--   (gs_show_enum)   %op_show_continue\n",
      "Dictionary stack:   --dict:747/1123(ro)(G)--   --dict:0/20(G)--   --dict:184/200(L)--\n",
      "Current allocation mode is local\n",
      "Last OS error: No such file or directoryCurrent file position is 19785\n"
     ]
    },
    {
     "name": "stderr",
     "output_type": "stream",
     "text": [
      "\n",
      "inputType: RAW\n",
      "/home/guanxiangyu/seq2logo-2.1/etc/Seq2Logo_module.py:535: RuntimeWarning: invalid value encountered in greater_equal\n",
      "  self.width = np.around(np.sum((self.aln>=0)*self.sw, 0) / np.sum(self.sw, dtype='|f8'), decimals=2)\n",
      "GPL Ghostscript 10.02.1: Unrecoverable error, exit code 1\n"
     ]
    },
    {
     "name": "stdout",
     "output_type": "stream",
     "text": [
      "~/seq2logo-2.1/Seq2Logo.py -f /mnt/hgfs/G/Micro_Maxquant_v2/results/Gibbs/CRC09_3352536/cores/gibbs.1of6.core -o /mnt/hgfs/G/Micro_Maxquant_v2/results/Gibbs/CRC09_3352536/visulization/gibbs_logos_1of6 -I 2 -p 540x400 --format PDF,PNG -b 200 -C 2 -t \"Group 1 of 6\"\n",
      "Error: /unknownerror in --.FAPIBuildChar--\n",
      "Operand stack:   --dict:17/19(ro)(G)--   77\n",
      "Execution stack:   %interp_exit   .runexec2   --nostringval--   --nostringval--   --nostringval--   2   %stopped_push   --nostringval--   --nostringval--   --nostringval--   false   1   %stopped_push   1928   1   3   %oparray_pop   1927   1   3   %oparray_pop   1926   1   3   %oparray_pop   --nostringval--   1912   1   3   %oparray_pop   1785   1   3   %oparray_pop   --nostringval--   %errorexec_pop   .runexec2   --nostringval--   --nostringval--   --nostringval--   2   %stopped_push   --nostringval--   --nostringval--   --nostringval--   --nostringval--   --nostringval--   %finish_show   --nostringval--   --nostringval--   11   3   0   --nostringval--   (gs_show_enum)   %op_show_continue\n",
      "Dictionary stack:   --dict:747/1123(ro)(G)--   --dict:0/20(G)--   --dict:184/200(L)--\n",
      "Current allocation mode is local\n",
      "Last OS error: No such file or directoryCurrent file position is 17944\n",
      "~/seq2logo-2.1/Seq2Logo.py -f /mnt/hgfs/G/Micro_Maxquant_v2/results/Gibbs/CRC09_3352536/cores/gibbs.2of6.core -o /mnt/hgfs/G/Micro_Maxquant_v2/results/Gibbs/CRC09_3352536/visulization/gibbs_logos_2of6 -I 2 -p 540x400 --format PDF,PNG -b 200 -C 2 -t \"Group 2 of 6\"\n"
     ]
    },
    {
     "name": "stderr",
     "output_type": "stream",
     "text": [
      "\n",
      "inputType: RAW\n",
      "/home/guanxiangyu/seq2logo-2.1/etc/Seq2Logo_module.py:535: RuntimeWarning: invalid value encountered in greater_equal\n",
      "  self.width = np.around(np.sum((self.aln>=0)*self.sw, 0) / np.sum(self.sw, dtype='|f8'), decimals=2)\n",
      "\n",
      "inputType: RAW\n",
      "/home/guanxiangyu/seq2logo-2.1/etc/Seq2Logo_module.py:535: RuntimeWarning: invalid value encountered in greater_equal\n",
      "  self.width = np.around(np.sum((self.aln>=0)*self.sw, 0) / np.sum(self.sw, dtype='|f8'), decimals=2)\n"
     ]
    },
    {
     "name": "stdout",
     "output_type": "stream",
     "text": [
      "~/seq2logo-2.1/Seq2Logo.py -f /mnt/hgfs/G/Micro_Maxquant_v2/results/Gibbs/CRC09_3352536/cores/gibbs.3of6.core -o /mnt/hgfs/G/Micro_Maxquant_v2/results/Gibbs/CRC09_3352536/visulization/gibbs_logos_3of6 -I 2 -p 540x400 --format PDF,PNG -b 200 -C 2 -t \"Group 3 of 6\"\n"
     ]
    },
    {
     "name": "stderr",
     "output_type": "stream",
     "text": [
      "\n",
      "inputType: RAW\n",
      "/home/guanxiangyu/seq2logo-2.1/etc/Seq2Logo_module.py:535: RuntimeWarning: invalid value encountered in greater_equal\n",
      "  self.width = np.around(np.sum((self.aln>=0)*self.sw, 0) / np.sum(self.sw, dtype='|f8'), decimals=2)\n"
     ]
    },
    {
     "name": "stdout",
     "output_type": "stream",
     "text": [
      "~/seq2logo-2.1/Seq2Logo.py -f /mnt/hgfs/G/Micro_Maxquant_v2/results/Gibbs/CRC09_3352536/cores/gibbs.4of6.core -o /mnt/hgfs/G/Micro_Maxquant_v2/results/Gibbs/CRC09_3352536/visulization/gibbs_logos_4of6 -I 2 -p 540x400 --format PDF,PNG -b 200 -C 2 -t \"Group 4 of 6\"\n"
     ]
    },
    {
     "name": "stderr",
     "output_type": "stream",
     "text": [
      "\n",
      "inputType: RAW\n",
      "/home/guanxiangyu/seq2logo-2.1/etc/Seq2Logo_module.py:535: RuntimeWarning: invalid value encountered in greater_equal\n",
      "  self.width = np.around(np.sum((self.aln>=0)*self.sw, 0) / np.sum(self.sw, dtype='|f8'), decimals=2)\n",
      "GPL Ghostscript 10.02.1: Unrecoverable error, exit code 1\n",
      "\n"
     ]
    },
    {
     "name": "stdout",
     "output_type": "stream",
     "text": [
      "~/seq2logo-2.1/Seq2Logo.py -f /mnt/hgfs/G/Micro_Maxquant_v2/results/Gibbs/CRC09_3352536/cores/gibbs.5of6.core -o /mnt/hgfs/G/Micro_Maxquant_v2/results/Gibbs/CRC09_3352536/visulization/gibbs_logos_5of6 -I 2 -p 540x400 --format PDF,PNG -b 200 -C 2 -t \"Group 5 of 6\"\n",
      "Error: /unknownerror in --.FAPIBuildChar--\n",
      "Operand stack:   --dict:17/19(ro)(G)--   82\n",
      "Execution stack:   %interp_exit   .runexec2   --nostringval--   --nostringval--   --nostringval--   2   %stopped_push   --nostringval--   --nostringval--   --nostringval--   false   1   %stopped_push   1928   1   3   %oparray_pop   1927   1   3   %oparray_pop   1926   1   3   %oparray_pop   --nostringval--   1912   1   3   %oparray_pop   1785   1   3   %oparray_pop   --nostringval--   %errorexec_pop   .runexec2   --nostringval--   --nostringval--   --nostringval--   2   %stopped_push   --nostringval--   --nostringval--   --nostringval--   --nostringval--   --nostringval--   %finish_show   --nostringval--   --nostringval--   11   3   0   --nostringval--   (gs_show_enum)   %op_show_continue\n",
      "Dictionary stack:   --dict:747/1123(ro)(G)--   --dict:0/20(G)--   --dict:184/200(L)--\n",
      "Current allocation mode is local\n",
      "Last OS error: No such file or directoryCurrent file position is 17230\n",
      "~/seq2logo-2.1/Seq2Logo.py -f /mnt/hgfs/G/Micro_Maxquant_v2/results/Gibbs/CRC09_3352536/cores/gibbs.6of6.core -o /mnt/hgfs/G/Micro_Maxquant_v2/results/Gibbs/CRC09_3352536/visulization/gibbs_logos_6of6 -I 2 -p 540x400 --format PDF,PNG -b 200 -C 2 -t \"Group 6 of 6\"\n"
     ]
    },
    {
     "name": "stderr",
     "output_type": "stream",
     "text": [
      "inputType: RAW\n",
      "/home/guanxiangyu/seq2logo-2.1/etc/Seq2Logo_module.py:535: RuntimeWarning: invalid value encountered in greater_equal\n",
      "  self.width = np.around(np.sum((self.aln>=0)*self.sw, 0) / np.sum(self.sw, dtype='|f8'), decimals=2)\n",
      "\n"
     ]
    },
    {
     "name": "stdout",
     "output_type": "stream",
     "text": [
      "~/seq2logo-2.1/Seq2Logo.py -f /mnt/hgfs/G/Micro_Maxquant_v2/results/Gibbs/CRC10_3423349/cores/gibbs.1of6.core -o /mnt/hgfs/G/Micro_Maxquant_v2/results/Gibbs/CRC10_3423349/visulization/gibbs_logos_1of6 -I 2 -p 540x400 --format PDF,PNG -b 200 -C 2 -t \"Group 1 of 6\"\n"
     ]
    },
    {
     "name": "stderr",
     "output_type": "stream",
     "text": [
      "inputType: RAW\n",
      "/home/guanxiangyu/seq2logo-2.1/etc/Seq2Logo_module.py:535: RuntimeWarning: invalid value encountered in greater_equal\n",
      "  self.width = np.around(np.sum((self.aln>=0)*self.sw, 0) / np.sum(self.sw, dtype='|f8'), decimals=2)\n",
      "\n"
     ]
    },
    {
     "name": "stdout",
     "output_type": "stream",
     "text": [
      "~/seq2logo-2.1/Seq2Logo.py -f /mnt/hgfs/G/Micro_Maxquant_v2/results/Gibbs/CRC10_3423349/cores/gibbs.2of6.core -o /mnt/hgfs/G/Micro_Maxquant_v2/results/Gibbs/CRC10_3423349/visulization/gibbs_logos_2of6 -I 2 -p 540x400 --format PDF,PNG -b 200 -C 2 -t \"Group 2 of 6\"\n"
     ]
    },
    {
     "name": "stderr",
     "output_type": "stream",
     "text": [
      "inputType: RAW\n",
      "/home/guanxiangyu/seq2logo-2.1/etc/Seq2Logo_module.py:535: RuntimeWarning: invalid value encountered in greater_equal\n",
      "  self.width = np.around(np.sum((self.aln>=0)*self.sw, 0) / np.sum(self.sw, dtype='|f8'), decimals=2)\n",
      "\n",
      "inputType: RAW\n",
      "/home/guanxiangyu/seq2logo-2.1/etc/Seq2Logo_module.py:535: RuntimeWarning: invalid value encountered in greater_equal\n",
      "  self.width = np.around(np.sum((self.aln>=0)*self.sw, 0) / np.sum(self.sw, dtype='|f8'), decimals=2)\n",
      "GPL Ghostscript 10.02.1: Unrecoverable error, exit code 1\n",
      "GPL Ghostscript 10.02.1: Unrecoverable error, exit code 1\n"
     ]
    },
    {
     "name": "stdout",
     "output_type": "stream",
     "text": [
      "~/seq2logo-2.1/Seq2Logo.py -f /mnt/hgfs/G/Micro_Maxquant_v2/results/Gibbs/CRC10_3423349/cores/gibbs.3of6.core -o /mnt/hgfs/G/Micro_Maxquant_v2/results/Gibbs/CRC10_3423349/visulization/gibbs_logos_3of6 -I 2 -p 540x400 --format PDF,PNG -b 200 -C 2 -t \"Group 3 of 6\"\n",
      "Error: /unknownerror in --.FAPIBuildChar--\n",
      "Operand stack:   --dict:17/19(ro)(G)--   69\n",
      "Execution stack:   %interp_exit   .runexec2   --nostringval--   --nostringval--   --nostringval--   2   %stopped_push   --nostringval--   --nostringval--   --nostringval--   false   1   %stopped_push   1928   1   3   %oparray_pop   1927   1   3   %oparray_pop   1926   1   3   %oparray_pop   --nostringval--   1912   1   3   %oparray_pop   1785   1   3   %oparray_pop   --nostringval--   %errorexec_pop   .runexec2   --nostringval--   --nostringval--   --nostringval--   2   %stopped_push   --nostringval--   --nostringval--   --nostringval--   --nostringval--   --nostringval--   %finish_show   --nostringval--   --nostringval--   11   3   0   --nostringval--   (gs_show_enum)   %op_show_continue\n",
      "Dictionary stack:   --dict:747/1123(ro)(G)--   --dict:0/20(G)--   --dict:184/200(L)--\n",
      "Current allocation mode is local\n",
      "Last OS error: No such file or directoryCurrent file position is 19106\n",
      "Error: /unknownerror in --.FAPIBuildChar--\n",
      "Operand stack:   --dict:17/19(ro)(G)--   73\n",
      "Execution stack:   %interp_exit   .runexec2   --nostringval--   --nostringval--   --nostringval--   2   %stopped_push   --nostringval--   --nostringval--   --nostringval--   false   1   %stopped_push   1928   1   3   %oparray_pop   1927   1   3   %oparray_pop   1926   1   3   %oparray_pop   --nostringval--   1912   1   3   %oparray_pop   1785   1   3   %oparray_pop   --nostringval--   %errorexec_pop   .runexec2   --nostringval--   --nostringval--   --nostringval--   2   %stopped_push   --nostringval--   --nostringval--   --nostringval--   --nostringval--   --nostringval--   %finish_show   --nostringval--   --nostringval--   11   3   0   --nostringval--   (gs_show_enum)   %op_show_continue\n",
      "Dictionary stack:   --dict:746/1123(ro)(G)--   --dict:0/20(G)--   --dict:184/200(L)--\n",
      "Current allocation mode is local\n",
      "Last OS error: No such file or directoryCurrent file position is 18230\n"
     ]
    },
    {
     "name": "stderr",
     "output_type": "stream",
     "text": [
      "\n",
      "inputType: RAW\n",
      "/home/guanxiangyu/seq2logo-2.1/etc/Seq2Logo_module.py:535: RuntimeWarning: invalid value encountered in greater_equal\n",
      "  self.width = np.around(np.sum((self.aln>=0)*self.sw, 0) / np.sum(self.sw, dtype='|f8'), decimals=2)\n"
     ]
    },
    {
     "name": "stdout",
     "output_type": "stream",
     "text": [
      "~/seq2logo-2.1/Seq2Logo.py -f /mnt/hgfs/G/Micro_Maxquant_v2/results/Gibbs/CRC10_3423349/cores/gibbs.4of6.core -o /mnt/hgfs/G/Micro_Maxquant_v2/results/Gibbs/CRC10_3423349/visulization/gibbs_logos_4of6 -I 2 -p 540x400 --format PDF,PNG -b 200 -C 2 -t \"Group 4 of 6\"\n"
     ]
    },
    {
     "name": "stderr",
     "output_type": "stream",
     "text": [
      "\n",
      "inputType: RAW\n",
      "/home/guanxiangyu/seq2logo-2.1/etc/Seq2Logo_module.py:535: RuntimeWarning: invalid value encountered in greater_equal\n",
      "  self.width = np.around(np.sum((self.aln>=0)*self.sw, 0) / np.sum(self.sw, dtype='|f8'), decimals=2)\n",
      "GPL Ghostscript 10.02.1: Unrecoverable error, exit code 1\n"
     ]
    },
    {
     "name": "stdout",
     "output_type": "stream",
     "text": [
      "~/seq2logo-2.1/Seq2Logo.py -f /mnt/hgfs/G/Micro_Maxquant_v2/results/Gibbs/CRC10_3423349/cores/gibbs.5of6.core -o /mnt/hgfs/G/Micro_Maxquant_v2/results/Gibbs/CRC10_3423349/visulization/gibbs_logos_5of6 -I 2 -p 540x400 --format PDF,PNG -b 200 -C 2 -t \"Group 5 of 6\"\n",
      "Error: /unknownerror in --.FAPIBuildChar--\n",
      "Operand stack:   --dict:17/19(ro)(G)--   72\n",
      "Execution stack:   %interp_exit   .runexec2   --nostringval--   --nostringval--   --nostringval--   2   %stopped_push   --nostringval--   --nostringval--   --nostringval--   false   1   %stopped_push   1928   1   3   %oparray_pop   1927   1   3   %oparray_pop   1926   1   3   %oparray_pop   --nostringval--   1912   1   3   %oparray_pop   1785   1   3   %oparray_pop   --nostringval--   %errorexec_pop   .runexec2   --nostringval--   --nostringval--   --nostringval--   2   %stopped_push   --nostringval--   --nostringval--   --nostringval--   --nostringval--   --nostringval--   %finish_show   --nostringval--   --nostringval--   11   3   0   --nostringval--   (gs_show_enum)   %op_show_continue\n",
      "Dictionary stack:   --dict:747/1123(ro)(G)--   --dict:0/20(G)--   --dict:184/200(L)--\n",
      "Current allocation mode is local\n",
      "Last OS error: No such file or directoryCurrent file position is 17191\n"
     ]
    },
    {
     "name": "stderr",
     "output_type": "stream",
     "text": [
      "\n",
      "inputType: RAW\n",
      "/home/guanxiangyu/seq2logo-2.1/etc/Seq2Logo_module.py:535: RuntimeWarning: invalid value encountered in greater_equal\n",
      "  self.width = np.around(np.sum((self.aln>=0)*self.sw, 0) / np.sum(self.sw, dtype='|f8'), decimals=2)\n",
      "GPL Ghostscript 10.02.1: Unrecoverable error, exit code 1\n"
     ]
    },
    {
     "name": "stdout",
     "output_type": "stream",
     "text": [
      "~/seq2logo-2.1/Seq2Logo.py -f /mnt/hgfs/G/Micro_Maxquant_v2/results/Gibbs/CRC10_3423349/cores/gibbs.6of6.core -o /mnt/hgfs/G/Micro_Maxquant_v2/results/Gibbs/CRC10_3423349/visulization/gibbs_logos_6of6 -I 2 -p 540x400 --format PDF,PNG -b 200 -C 2 -t \"Group 6 of 6\"\n",
      "Error: /unknownerror in --.FAPIBuildChar--\n",
      "Operand stack:   --dict:17/19(ro)(G)--   67\n",
      "Execution stack:   %interp_exit   .runexec2   --nostringval--   --nostringval--   --nostringval--   2   %stopped_push   --nostringval--   --nostringval--   --nostringval--   false   1   %stopped_push   1928   1   3   %oparray_pop   1927   1   3   %oparray_pop   1926   1   3   %oparray_pop   --nostringval--   1912   1   3   %oparray_pop   1785   1   3   %oparray_pop   --nostringval--   %errorexec_pop   .runexec2   --nostringval--   --nostringval--   --nostringval--   2   %stopped_push   --nostringval--   --nostringval--   --nostringval--   --nostringval--   --nostringval--   %finish_show   --nostringval--   --nostringval--   11   3   0   --nostringval--   (gs_show_enum)   %op_show_continue\n",
      "Dictionary stack:   --dict:747/1123(ro)(G)--   --dict:0/20(G)--   --dict:184/200(L)--\n",
      "Current allocation mode is local\n",
      "Last OS error: No such file or directoryCurrent file position is 19628\n"
     ]
    },
    {
     "name": "stderr",
     "output_type": "stream",
     "text": [
      "\n"
     ]
    }
   ],
   "source": [
    "my_path = \"/mnt/hgfs/G/Micro_Maxquant_v2/results\"\n",
    "Samples = [\"CRC{:0>2d}\".format(i) for i in range(1,11)]\n",
    "def Seq2Logo(Corefile, outDir, prefix, Title, pageszie=\"540x400\", file_format=\"PDF,PNG\"):\n",
    "    seq2logo = \"~/seq2logo-2.1/Seq2Logo.py\"\n",
    "    cmd = \"{seq2logo} -f {Corefile} -o {outDir}/{prefix} -I 2 -p {pageszie} --format {file_format} -b 200 -C 2 -t \\\"{Title}\\\"\".format(\n",
    "        seq2logo = seq2logo, Corefile = Corefile, outDir = outDir, prefix = prefix, pageszie = pageszie, file_format = file_format, Title = Title)\n",
    "    print(cmd)\n",
    "    os.system(cmd)\n",
    "\n",
    "for sample in Samples:\n",
    "    Corefiles = os.popen(\"ls {}/Gibbs/{}_*/cores/*.core\".format(my_path, sample))\n",
    "    for corefile in Corefiles:\n",
    "        corefile = corefile.strip()\n",
    "        outDir = os.path.join(os.path.dirname(os.path.dirname(corefile)), \"visulization\")\n",
    "        os.makedirs(outDir, exist_ok=True)\n",
    "        group_ind = os.path.basename(corefile)[6]\n",
    "        group_num = os.path.basename(corefile)[9]\n",
    "        prefix = \"gibbs_logos_{}of{}\".format(group_ind, group_num)\n",
    "        Title = \"Group {} of {}\".format(group_ind, group_num)\n",
    "        Seq2Logo(corefile, outDir, prefix, Title)"
   ]
  },
  {
   "cell_type": "code",
   "execution_count": null,
   "id": "4d752645-0c22-4bbd-9a4a-0c597138ad20",
   "metadata": {},
   "outputs": [],
   "source": []
  }
 ],
 "metadata": {
  "kernelspec": {
   "display_name": "Python 3 (ipykernel)",
   "language": "python",
   "name": "python3"
  },
  "language_info": {
   "codemirror_mode": {
    "name": "ipython",
    "version": 3
   },
   "file_extension": ".py",
   "mimetype": "text/x-python",
   "name": "python",
   "nbconvert_exporter": "python",
   "pygments_lexer": "ipython3",
   "version": "3.11.5"
  }
 },
 "nbformat": 4,
 "nbformat_minor": 5
}
