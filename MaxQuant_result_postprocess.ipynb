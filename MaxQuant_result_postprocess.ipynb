{
 "cells": [
  {
   "cell_type": "code",
   "execution_count": 1,
   "id": "997d00aa-8cd7-46ef-aaaa-89422242a9e3",
   "metadata": {
    "tags": []
   },
   "outputs": [],
   "source": [
    "import os\n",
    "import sys\n",
    "import gzip\n",
    "import threading\n",
    "import argparse\n",
    "import pandas as pd\n",
    "import numpy as np\n",
    "from Bio import SeqIO"
   ]
  },
  {
   "cell_type": "code",
   "execution_count": 2,
   "id": "a12de8ea-e86d-40ac-b009-f6d6efa5c0ec",
   "metadata": {
    "tags": []
   },
   "outputs": [],
   "source": [
    "def ReadFile(filename):\n",
    "    if filename.endswith('.gz'):\n",
    "        f = gzip.open(filename, 'rt')\n",
    "    else:\n",
    "        f = open(filename)\n",
    "    return(f)\n",
    "\n",
    "\n",
    "def WriteFile(filename):\n",
    "    if filename.endswith('.gz'):\n",
    "        f = gzip.open(filename, 'wt')\n",
    "    else:\n",
    "        f = open(filename, 'wt')\n",
    "    return(f)\n",
    "\n",
    "\n",
    "def UniProtFastaParse(record):\n",
    "    '''\n",
    "    [UniProtKB]\n",
    "    >db|UniqueIdentifier|EntryName ProteinName OS=OrganismName OX=OrganismIdentifier [GN=GeneName ]PE=ProteinExistence SV=SequenceVersion\n",
    "\n",
    "    SeqRecord(seq=Seq('MEEMYNVSSNPHVRDKMTTSRIMQLVVIALLPATLFGIWNFGFHALLVVLVTVI...KKA'),\n",
    "        id='tr|A0A173W9M9|A0A173W9M9_9FIRM',\n",
    "        name='tr|A0A173W9M9|A0A173W9M9_9FIRM',\n",
    "        description='tr|A0A173W9M9|A0A173W9M9_9FIRM Ion-translocating oxidoreductasecomplex subunit D OS=Blautia obeum OX=40520 GN=nqrB PE=3 SV=1',\n",
    "        dbxrefs=[])\n",
    "    '''\n",
    "    name = record.name\n",
    "    db, UniqueIdentifier, EntryName = name.split(\"|\")\n",
    "    seq = str(record.seq)\n",
    "    desc = record.description\n",
    "    desc = desc.replace(\"{} \".format(name), \"\", 1)\n",
    "    # print(desc)\n",
    "    return(db, UniqueIdentifier, EntryName, desc, seq)\n",
    "\n",
    "\n",
    "def UniProtFasta2tsv(UniprotDB_file, df_Uniprot_list, index, columns):\n",
    "    in_f = ReadFile(UniprotDB_file)\n",
    "    tmp = []\n",
    "    for record in SeqIO.parse(in_f, 'fasta'):\n",
    "        new_row = UniProtFastaParse(record)\n",
    "        tmp.append(new_row)\n",
    "    in_f.close()\n",
    "    df_Uniprot_list[index] = pd.DataFrame(tmp, columns=columns)\n",
    "\n",
    "def MQfileParse(filepath, PEP_threshold, df_Uniprot):\n",
    "    import re\n",
    "    '''\n",
    "    Within the target-decoy strategy MaxQuant use the concept of posterior error probability (PEP) \n",
    "    to integrate multiple peptide properties, such as length, charge and number of modifications, \n",
    "    together with the Andromeda score into a single quantity reflecting the quality of a peptide \n",
    "    spectrum match (PSM)\n",
    "    '''\n",
    "    def Filterresult(df, PEP_threshold):\n",
    "        return(df.loc[(df['Reverse'] != '+') & (df['Potential contaminant'] != '+') & (df['PEP'] < PEP_threshold) & (df['Proteins'] != 'Biognosys')])\n",
    "\n",
    "    def Proteins2Species(df, df_Uniprot):\n",
    "        if 'Proteins' in df.columns:\n",
    "            # df['Species'] = df.apply(lambda x: ';'.join([str(i) for i in df_Uniprot.loc[df_Uniprot.UniqueIdentifier.isin(\n",
    "            #     str(x['Proteins']).split(';')), 'OrganismName'].values]), axis=1)\n",
    "            df['Species'] = df.apply(lambda x: ';'.join([''.join(df_Uniprot.loc[df_Uniprot.UniqueIdentifier == i, 'OrganismName'].values)\n",
    "                                                         for i in str(x['Proteins']).split(';')]),axis=1)\n",
    "            df['Protein number'] = df.apply(lambda x: len(\n",
    "                set([i for i in str(x['Proteins']).split(';') if i != \"\"])), axis=1)\n",
    "            df['Species number'] = df.apply(lambda x: len(\n",
    "                set([ i for i in str(x['Species']).split(';') if i != \"\"])), axis=1)\n",
    "        if 'Leading proteins' in df.columns:\n",
    "            # df['Leading species'] = df.apply(lambda x: ';'.join([str(i) for i in df_Uniprot.loc[df_Uniprot.UniqueIdentifier.isin(\n",
    "            #     str(x['Leading proteins']).split(';')), 'OrganismName'].values]), axis=1)\n",
    "            df['Leading species'] = df.apply(lambda x: ';'.join([''.join(df_Uniprot.loc[df_Uniprot.UniqueIdentifier == i, 'OrganismName'].values)\n",
    "                                                         for i in str(x['Leading proteins']).split(';')]),axis=1)\n",
    "            df['Leading proteins number'] = df.apply(lambda x: len(\n",
    "                set([ i for i in str(x['Leading proteins']).split(';') if i != \"\"])), axis=1)\n",
    "            df['Leading species number'] = df.apply(lambda x: len(\n",
    "                set([ i for i in str(x['Leading species']).split(';') if i != \"\"])), axis=1)\n",
    "        if 'Leading razor protein' in df.columns:\n",
    "            # df['Leading razor species'] = df.apply(lambda x: ';'.join([str(i) for i in df_Uniprot.loc[df_Uniprot.UniqueIdentifier.isin(\n",
    "            #     str(x['Leading razor protein']).split(';')), 'OrganismName'].values]), axis=1)\n",
    "            df['Leading razor species'] = df.apply(lambda x: ';'.join([''.join(df_Uniprot.loc[df_Uniprot.UniqueIdentifier == i, 'OrganismName'].values) \n",
    "                                                                 for i in str(x['Leading razor protein']).split(';')]),axis=1)\n",
    "            df['Leading razor protein number'] = df.apply(lambda x: len(\n",
    "                set([ i for i in str(x['Leading razor protein']).split(';') if i != \"\"])), axis=1)\n",
    "            df['Leading razor species number'] = df.apply(lambda x: len(\n",
    "                set([ i for i in str(x['Leading razor species']).split(';') if i != \"\"])), axis=1)\n",
    "    def ProteinRematch(df, df_Uniprot):\n",
    "        my_sequence = df['Sequence'].str.replace('I','L')\n",
    "        df_searching = df_Uniprot[['UniqueIdentifier','seq']].copy()\n",
    "        df_searching['seq'] = df_searching['seq'].str.replace('I','L')\n",
    "        return(my_sequence.apply(lambda x: ';'.join(df_searching.loc[df_searching['seq'].str.contains(x), 'UniqueIdentifier'].to_list())))\n",
    "    df_peptides = pd.read_table(filepath)\n",
    "    df_peptides = Filterresult(df_peptides, PEP_threshold).copy()\n",
    "    if 'Proteins' in df_peptides.columns:\n",
    "        df_peptides['Proteins'] = ProteinRematch(df_peptides, df_Uniprot)\n",
    "    Proteins2Species(df_peptides, df_Uniprot)\n",
    "    # df_micro_ori_peptides = df_peptides.loc[~df_peptides['Species'].apply(\n",
    "    #     lambda x: ';'.join((set(x.split(';'))))).isin(['Homo sapiens', '']), ].copy()\n",
    "    df_micro_ori_peptides = df_peptides.loc[df_peptides['Species'].apply(\n",
    "        lambda x: len([ i for i in x.split(';') if i not in ['Homo sapiens', '']]) > 0), ].copy()\n",
    "    return(df_peptides, df_micro_ori_peptides)\n",
    "\n",
    "def Juge(df):\n",
    "    human_ori_juge = df['Species'].apply(lambda x: ';'.join((set(x.split(';'))))).isin(['Homo sapiens', '']).sum()\n",
    "    nonhuman_ori_juge = df['Species'].apply(lambda x: 'Homo sapiens' not in x).sum()\n",
    "    multi_ori_juge = (df['Species number'] > 1).sum()\n",
    "    nonhuman_multi_ori_juge = ((df['Species number'] > 1) & (df['Species'].apply(lambda x: 'Homo sapiens' not in x))).sum()\n",
    "    return(human_ori_juge, nonhuman_ori_juge, multi_ori_juge, nonhuman_multi_ori_juge)\n",
    "\n",
    "def RunCmd(cmd):\n",
    "    # print(cmd)\n",
    "    os.system(cmd)"
   ]
  },
  {
   "cell_type": "code",
   "execution_count": 3,
   "id": "2444faa1-28e0-4615-a5a9-bcd10b41b7a5",
   "metadata": {},
   "outputs": [],
   "source": [
    "# netMHCPan Predicting\n",
    "def AffinityPredicting(df_peptides, prefix, HLAinfo, outdir):\n",
    "    netMHCPan = \"/home/guanxiangyu/netMHCpan-4.1/netMHCpan\"\n",
    "    os.makedirs(outdir, exist_ok=True)\n",
    "    \n",
    "    # HLA type included in netMHCPan\n",
    "    netMHCPan_included_HLA = list()\n",
    "    tmp = os.popen(\"{} -listMHC\".format(netMHCPan))\n",
    "    for line in tmp:\n",
    "        line = line.strip()\n",
    "        if line and (not line.startswith('#')):\n",
    "            netMHCPan_included_HLA.append(line)\n",
    "            \n",
    "    # HLA type filtering\n",
    "    if type(HLAinfo) == str and os.path.exists(HLAinfo):\n",
    "        # for file input\n",
    "        hla_f = ReadFile(HLAinfo)\n",
    "        hla_type = hla_f.read().strip().split(\"\\n\")\n",
    "        hla_f.close()\n",
    "    else:\n",
    "        # for HLA type list or string\n",
    "        hla_type = HLAinfo\n",
    "    hla_type = sorted(set(hla_type))\n",
    "    for hla in hla_type:\n",
    "        if hla in netMHCPan_included_HLA:\n",
    "            continue\n",
    "        else:\n",
    "            print(\">>>either {} cannot be predicted by netMHCpan-4.1 or your input format could be wrong.<<<\".format(hla))\n",
    "            hla_type.remove(hla)\n",
    "    \n",
    "    # netMHCPan predicting\n",
    "    pep_file = os.path.join(outdir, '{}.pep'.format(prefix))\n",
    "    df_peptides.Sequence.drop_duplicates().to_csv(pep_file, header=False, index=False, sep=\"\\t\")\n",
    "    cmd = \"{} -p {} -BA -inptype 1 -a {} > {}.txt\".format(netMHCPan, pep_file, ','.join(hla_type), pep_file)\n",
    "    RunCmd(cmd)\n",
    "    cmd = \"rm {}\".format(pep_file)\n",
    "    RunCmd(cmd)\n",
    "    # netMHCPan result processing\n",
    "    netmhc_result_trans = \"/mnt/hgfs/G/Micro_Maxquant_v2/scripts/formattingNetMHCpanResults-n.pl\"\n",
    "    cmd = \"{} {}.txt {} {}\".format(netmhc_result_trans, pep_file, outdir, prefix)\n",
    "    RunCmd(cmd) "
   ]
  },
  {
   "cell_type": "code",
   "execution_count": 4,
   "id": "f45f4951-c5e4-4ce7-b0ba-b292d703ba58",
   "metadata": {
    "tags": []
   },
   "outputs": [
    {
     "data": {
      "text/plain": [
       "'/mnt/hgfs/G/Micro_Maxquant_v2/scripts'"
      ]
     },
     "execution_count": 4,
     "metadata": {},
     "output_type": "execute_result"
    }
   ],
   "source": [
    "os.getcwd()"
   ]
  },
  {
   "cell_type": "code",
   "execution_count": 5,
   "id": "b25d7267-e8c8-420e-b9b4-14bb81a8af34",
   "metadata": {
    "tags": []
   },
   "outputs": [],
   "source": [
    "file_path = \"/mnt/hgfs/G/Micro_Maxquant_v2\"\n",
    "sample_ids = ['CRC01', 'CRC02', 'CRC03', 'CRC04', 'CRC05', 'CRC06', 'CRC07', 'CRC08', 'CRC09', 'CRC10']\n",
    "dtypes = ['tumor','normal']"
   ]
  },
  {
   "cell_type": "code",
   "execution_count": 6,
   "id": "61aada3c-58d8-49b6-81d4-b7b1ce335bcc",
   "metadata": {
    "tags": []
   },
   "outputs": [],
   "source": [
    "PEP_threshold = 0.05\n",
    "MQ_file = \"peptides.txt\"\n",
    "pep_ori_summary = WriteFile(os.path.join(file_path, 'results', 'All.peptides_summarise.tsv.gz'))\n",
    "pep_ori_summary.write(\"\\t\".join(['Sample', 'dtype', 'peptides sequences filtered', 'human origin peptides number', 'non-human origin peptides number',\n",
    "                                 'multi-origin peptides number', 'non-human multi-origin peptides number']))\n",
    "pep_ori_summary.write(\"\\n\")\n",
    "OrganismCount = list()\n",
    "TotalPeptides = list()\n",
    "TotalNonHumanPeptides = list()\n",
    "for sample in sample_ids:\n",
    "    # Uniprot fasta databases parse to tsv format\n",
    "    columns = ['db', 'UniqueIdentifier', 'EntryName', 'Description', 'seq']\n",
    "    ref_dfs = list()\n",
    "    my_threads = list()\n",
    "    reference = [os.path.join(file_path,\"ProteinDB\",i) for i in os.listdir(os.path.join(file_path,\"ProteinDB\")) if i.startswith(sample)]\n",
    "    for i, ref_fasta in enumerate(reference):\n",
    "        ref_dfs.append(pd.DataFrame(columns=columns))\n",
    "        my_threads.append(threading.Thread(target=UniProtFasta2tsv, args=(ref_fasta, ref_dfs, i, columns)))\n",
    "\n",
    "    for th in my_threads:\n",
    "        th.start()\n",
    "    for th in my_threads:\n",
    "        th.join()\n",
    "    # combine UniProt human and microbiome databases as one\n",
    "    df_Uniprot = pd.concat(ref_dfs, ignore_index=True)\n",
    "    df_Uniprot = pd.concat([df_Uniprot, df_Uniprot.Description.str.extract(\"OS=(?P<OrganismName>.+)\\sOX=(?P<OrganismIdentifier>\\d+)\", expand=True)], axis=1)\n",
    "    assert (len(df_Uniprot.UniqueIdentifier.unique()) == df_Uniprot.shape[0]), \"There are multi_match in protein database\"\n",
    "    # save as tsv file and count protein numbers in different species\n",
    "    df_Uniprot.to_csv(os.path.join(file_path, 'results', '{}.MQdb.tsv.gz'.format(sample)), sep=\"\\t\", index=False, header=True)\n",
    "    # df_Uniprot.OrganismName.value_counts().reset_index().to_csv(os.path.join(file_path, 'results', '{}.MQdb_Species_cout.tsv.gz'.format(sample)), sep=\"\\t\", index=False, header=True)\n",
    "    df_Organism = df_Uniprot.OrganismName.value_counts().reset_index()\n",
    "    df_Organism['Sample'] = sample\n",
    "    OrganismCount.append(df_Organism)\n",
    "    # MaxQuant peptides.txt file parse, annotate originated species of each peptides\n",
    "    for Dtype in dtypes:\n",
    "        peptide_f = os.path.join(file_path, sample, Dtype, MQ_file)\n",
    "        HLAinfo = os.path.join(file_path, sample, 'HLAdect.normal.csv')\n",
    "        if os.path.exists(peptide_f):\n",
    "            df_peptides, df_Micro_peptides = MQfileParse(peptide_f, PEP_threshold, df_Uniprot)\n",
    "            sample_outdir = os.path.join(file_path, 'results', sample)\n",
    "            os.makedirs(sample_outdir, exist_ok=True)\n",
    "            if df_peptides.shape[0] >0:\n",
    "                prefix = '{}_{}.all_peptides'.format(sample, Dtype)\n",
    "                AffinityPredicting(df_peptides, prefix, HLAinfo, sample_outdir)\n",
    "                df_peptides.to_csv(os.path.join(sample_outdir, '{}.tsv.gz'.format(prefix)), header=True, index=False, sep=\"\\t\")          \n",
    "                df_peptides['Sample'] = sample\n",
    "                df_peptides['Sample_Type'] = Dtype\n",
    "                TotalPeptides.append(df_peptides)\n",
    "            if df_Micro_peptides.shape[0] > 0:\n",
    "                prefix = '{}_{}.micro_ori_peptides'.format(sample, Dtype)\n",
    "                AffinityPredicting(df_peptides, prefix, HLAinfo, sample_outdir)\n",
    "                df_Micro_peptides.to_csv(os.path.join(sample_outdir, '{}.tsv.gz'.format(prefix)), header=True, index=False, sep=\"\\t\")\n",
    "                df_Micro_peptides['Sample'] = sample\n",
    "                df_Micro_peptides['Sample_Type'] = Dtype\n",
    "                TotalNonHumanPeptides.append(df_Micro_peptides)\n",
    "            human_ori_juge, nonhuman_ori_juge, multi_ori_juge, nonhuman_multi_ori_juge = Juge(df_peptides)\n",
    "            pep_ori_summary.write(\"{}\\t{}\\t{:d}\\t{:d}\\t{:d}\\t{:d}\\t{:d}\\n\".format(sample, Dtype, df_peptides.shape[0], human_ori_juge, nonhuman_ori_juge, multi_ori_juge, nonhuman_multi_ori_juge))\n",
    "\n",
    "pep_ori_summary.close()\n",
    "df_OrgCount = pd.concat(OrganismCount)\n",
    "df_OrgCount.to_csv(os.path.join(file_path, 'results', 'All.MQdb_Species_count.tsv.gz'), sep=\"\\t\", index=False, header=True)\n",
    "if len(TotalPeptides) > 0:\n",
    "    df_PepTotal = pd.concat(TotalPeptides)\n",
    "    df_PepTotal.to_csv(os.path.join(file_path, 'results', 'All.Peptides.tsv.gz'), header=True, index=False, sep=\"\\t\")\n",
    "if len(TotalNonHumanPeptides) > 0:\n",
    "    df_MicroPepTotal = pd.concat(TotalNonHumanPeptides)\n",
    "    df_MicroPepTotal.to_csv(os.path.join(file_path, 'results', 'All.NonHuman.Peptides.tsv.gz'), header=True, index=False, sep=\"\\t\")"
   ]
  },
  {
   "cell_type": "code",
   "execution_count": 7,
   "id": "c05195aa-aec8-4f81-a788-0ef5e3d12f51",
   "metadata": {},
   "outputs": [
    {
     "data": {
      "text/plain": [
       "Index(['Sequence', 'N-term cleavage window', 'C-term cleavage window',\n",
       "       'Amino acid before', 'First amino acid', 'Second amino acid',\n",
       "       'Second last amino acid', 'Last amino acid', 'Amino acid after',\n",
       "       'A Count', 'R Count', 'N Count', 'D Count', 'C Count', 'Q Count',\n",
       "       'E Count', 'G Count', 'H Count', 'I Count', 'L Count', 'K Count',\n",
       "       'M Count', 'F Count', 'P Count', 'S Count', 'T Count', 'W Count',\n",
       "       'Y Count', 'V Count', 'U Count', 'O Count', 'Length',\n",
       "       'Missed cleavages', 'Mass', 'Proteins', 'Leading razor protein',\n",
       "       'Start position', 'End position', 'Gene names', 'Protein names',\n",
       "       'Unique (Groups)', 'Unique (Proteins)', 'Charges', 'PEP', 'Score',\n",
       "       'Intensity', 'Reverse', 'Potential contaminant', 'id',\n",
       "       'Protein group IDs', 'Mod. peptide IDs', 'Evidence IDs', 'MS/MS IDs',\n",
       "       'Best MS/MS', 'Deamidation (NQ) site IDs', 'Oxidation (M) site IDs',\n",
       "       'Taxonomy IDs', 'Mass deficit', 'MS/MS Count', 'Species',\n",
       "       'Protein number', 'Species number', 'Leading razor species',\n",
       "       'Leading razor protein number', 'Leading razor species number',\n",
       "       'Sample', 'Sample_Type'],\n",
       "      dtype='object')"
      ]
     },
     "execution_count": 7,
     "metadata": {},
     "output_type": "execute_result"
    }
   ],
   "source": [
    "df_MicroPepTotal.columns"
   ]
  },
  {
   "cell_type": "code",
   "execution_count": 8,
   "id": "696a8f8c-b5a4-4c45-9965-491ae387cab8",
   "metadata": {
    "tags": []
   },
   "outputs": [
    {
     "data": {
      "text/html": [
       "<div>\n",
       "<style scoped>\n",
       "    .dataframe tbody tr th:only-of-type {\n",
       "        vertical-align: middle;\n",
       "    }\n",
       "\n",
       "    .dataframe tbody tr th {\n",
       "        vertical-align: top;\n",
       "    }\n",
       "\n",
       "    .dataframe thead th {\n",
       "        text-align: right;\n",
       "    }\n",
       "</style>\n",
       "<table border=\"1\" class=\"dataframe\">\n",
       "  <thead>\n",
       "    <tr style=\"text-align: right;\">\n",
       "      <th></th>\n",
       "      <th>Proteins</th>\n",
       "      <th>Species</th>\n",
       "    </tr>\n",
       "  </thead>\n",
       "  <tbody>\n",
       "    <tr>\n",
       "      <th>311</th>\n",
       "      <td>Q12931;Q12931-2;P14625;P08238;A0A2U8FNC1;A0A0S...</td>\n",
       "      <td>Homo sapiens;Homo sapiens;Homo sapiens;Homo sa...</td>\n",
       "    </tr>\n",
       "    <tr>\n",
       "      <th>626</th>\n",
       "      <td>Q14568;P14625;P08238;P07900;P07900-2;A0A2U8FNC...</td>\n",
       "      <td>Homo sapiens;Homo sapiens;Homo sapiens;Homo sa...</td>\n",
       "    </tr>\n",
       "    <tr>\n",
       "      <th>1192</th>\n",
       "      <td>P23526;P23526-2;A0A2U8FVX6</td>\n",
       "      <td>Homo sapiens;Homo sapiens;Aquabacterium olei</td>\n",
       "    </tr>\n",
       "    <tr>\n",
       "      <th>680</th>\n",
       "      <td>P05023;P05023-3;P05023-4;P50993;P20648;Q13733;...</td>\n",
       "      <td>Homo sapiens;Homo sapiens;Homo sapiens;Homo sa...</td>\n",
       "    </tr>\n",
       "    <tr>\n",
       "      <th>909</th>\n",
       "      <td>Q14568;P14625;P08238;P07900;P07900-2;A0A2U8FNC...</td>\n",
       "      <td>Homo sapiens;Homo sapiens;Homo sapiens;Homo sa...</td>\n",
       "    </tr>\n",
       "    <tr>\n",
       "      <th>...</th>\n",
       "      <td>...</td>\n",
       "      <td>...</td>\n",
       "    </tr>\n",
       "    <tr>\n",
       "      <th>758</th>\n",
       "      <td>Q8NE71;Q8NE71-2;A0A0B4RZK9</td>\n",
       "      <td>Homo sapiens;Homo sapiens;Parvimonas micra</td>\n",
       "    </tr>\n",
       "    <tr>\n",
       "      <th>1011</th>\n",
       "      <td>P35606;P35606-2;Q8REL3</td>\n",
       "      <td>Homo sapiens;Homo sapiens;Fusobacterium nuclea...</td>\n",
       "    </tr>\n",
       "    <tr>\n",
       "      <th>1202</th>\n",
       "      <td>A0A378C574;A0A378AJY0;F9EL03;A6TEX7;A0A378E6C6...</td>\n",
       "      <td>Klebsiella pneumoniae subsp. ozaenae;Klebsiell...</td>\n",
       "    </tr>\n",
       "    <tr>\n",
       "      <th>1227</th>\n",
       "      <td>P38919;P60842;P60842-2;Q14240;Q14240-2;A0A378A...</td>\n",
       "      <td>Homo sapiens;Homo sapiens;Homo sapiens;Homo sa...</td>\n",
       "    </tr>\n",
       "    <tr>\n",
       "      <th>1228</th>\n",
       "      <td>P17844;P17844-2;Q9BUQ8;Q92841;Q92841-1;Q92841-...</td>\n",
       "      <td>Homo sapiens;Homo sapiens;Homo sapiens;Homo sa...</td>\n",
       "    </tr>\n",
       "  </tbody>\n",
       "</table>\n",
       "<p>112 rows × 2 columns</p>\n",
       "</div>"
      ],
      "text/plain": [
       "                                               Proteins  \\\n",
       "311   Q12931;Q12931-2;P14625;P08238;A0A2U8FNC1;A0A0S...   \n",
       "626   Q14568;P14625;P08238;P07900;P07900-2;A0A2U8FNC...   \n",
       "1192                         P23526;P23526-2;A0A2U8FVX6   \n",
       "680   P05023;P05023-3;P05023-4;P50993;P20648;Q13733;...   \n",
       "909   Q14568;P14625;P08238;P07900;P07900-2;A0A2U8FNC...   \n",
       "...                                                 ...   \n",
       "758                          Q8NE71;Q8NE71-2;A0A0B4RZK9   \n",
       "1011                             P35606;P35606-2;Q8REL3   \n",
       "1202  A0A378C574;A0A378AJY0;F9EL03;A6TEX7;A0A378E6C6...   \n",
       "1227  P38919;P60842;P60842-2;Q14240;Q14240-2;A0A378A...   \n",
       "1228  P17844;P17844-2;Q9BUQ8;Q92841;Q92841-1;Q92841-...   \n",
       "\n",
       "                                                Species  \n",
       "311   Homo sapiens;Homo sapiens;Homo sapiens;Homo sa...  \n",
       "626   Homo sapiens;Homo sapiens;Homo sapiens;Homo sa...  \n",
       "1192       Homo sapiens;Homo sapiens;Aquabacterium olei  \n",
       "680   Homo sapiens;Homo sapiens;Homo sapiens;Homo sa...  \n",
       "909   Homo sapiens;Homo sapiens;Homo sapiens;Homo sa...  \n",
       "...                                                 ...  \n",
       "758          Homo sapiens;Homo sapiens;Parvimonas micra  \n",
       "1011  Homo sapiens;Homo sapiens;Fusobacterium nuclea...  \n",
       "1202  Klebsiella pneumoniae subsp. ozaenae;Klebsiell...  \n",
       "1227  Homo sapiens;Homo sapiens;Homo sapiens;Homo sa...  \n",
       "1228  Homo sapiens;Homo sapiens;Homo sapiens;Homo sa...  \n",
       "\n",
       "[112 rows x 2 columns]"
      ]
     },
     "execution_count": 8,
     "metadata": {},
     "output_type": "execute_result"
    }
   ],
   "source": [
    "df_MicroPepTotal[['Proteins','Species']][df_MicroPepTotal.Proteins.str.contains(';')]"
   ]
  },
  {
   "cell_type": "code",
   "execution_count": 9,
   "id": "1e50f7e4-6be7-407c-ad25-1161687ea486",
   "metadata": {
    "tags": []
   },
   "outputs": [
    {
     "data": {
      "text/plain": [
       "(14289, 67)"
      ]
     },
     "execution_count": 9,
     "metadata": {},
     "output_type": "execute_result"
    }
   ],
   "source": [
    "df_PepTotal.drop_duplicates('Sequence').shape"
   ]
  },
  {
   "cell_type": "code",
   "execution_count": 10,
   "id": "8232d34d-280d-4f15-9ea4-f219dc11894e",
   "metadata": {
    "tags": []
   },
   "outputs": [
    {
     "data": {
      "text/plain": [
       "(230, 67)"
      ]
     },
     "execution_count": 10,
     "metadata": {},
     "output_type": "execute_result"
    }
   ],
   "source": [
    "df_MicroPepTotal.drop_duplicates('Sequence').shape"
   ]
  },
  {
   "cell_type": "code",
   "execution_count": null,
   "id": "044ad441-8f5a-4b21-b7aa-f7749df4f74a",
   "metadata": {},
   "outputs": [],
   "source": []
  }
 ],
 "metadata": {
  "kernelspec": {
   "display_name": "Python 3 (ipykernel)",
   "language": "python",
   "name": "python3"
  },
  "language_info": {
   "codemirror_mode": {
    "name": "ipython",
    "version": 3
   },
   "file_extension": ".py",
   "mimetype": "text/x-python",
   "name": "python",
   "nbconvert_exporter": "python",
   "pygments_lexer": "ipython3",
   "version": "3.11.5"
  }
 },
 "nbformat": 4,
 "nbformat_minor": 5
}
