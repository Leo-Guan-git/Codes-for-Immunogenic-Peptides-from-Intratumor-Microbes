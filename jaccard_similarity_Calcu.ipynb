{
 "cells": [
  {
   "cell_type": "code",
   "execution_count": 17,
   "id": "9c0305ae-31a0-4cbc-95b4-1496942b91db",
   "metadata": {
    "tags": []
   },
   "outputs": [],
   "source": [
    "import pandas as pd\n",
    "import os"
   ]
  },
  {
   "cell_type": "code",
   "execution_count": 18,
   "id": "9f54e4ab-3685-4759-a1c7-985e5e2bb3ba",
   "metadata": {
    "tags": []
   },
   "outputs": [],
   "source": [
    "# df_pep = pd.read_csv(\"/mnt/hgfs/G/Micro_Maxquant_v2/results/All.Peptides.tsv.gz\", header=0, sep=\"\\t\")\n",
    "df_pep = pd.read_csv(\"/mnt/hgfs/G/Micro_Maxquant_v2/results/All.Peptides.filtered.tsv.gz\", header=0, sep=\"\\t\")"
   ]
  },
  {
   "cell_type": "code",
   "execution_count": 20,
   "id": "8dbbfa35-e2fe-48bc-a27b-255b726ad2b1",
   "metadata": {
    "tags": []
   },
   "outputs": [],
   "source": [
    "df_pep_list = df_pep[['Sample','Sample_Type', 'Sequence']].groupby(['Sample','Sample_Type']).apply(lambda x: x.Sequence.drop_duplicates().to_list())"
   ]
  },
  {
   "cell_type": "code",
   "execution_count": 21,
   "id": "8084feae-64db-4e7b-9c69-80eb48f6c727",
   "metadata": {
    "tags": []
   },
   "outputs": [],
   "source": [
    "df_pep_jaccard = df_pep_list.apply(lambda x: df_pep_list.apply(lambda y: len(set(y).intersection(x))/len(set(y).union(x))))"
   ]
  },
  {
   "cell_type": "code",
   "execution_count": 22,
   "id": "9187d930-134b-48f4-9aa7-f953da034d5c",
   "metadata": {
    "tags": []
   },
   "outputs": [],
   "source": [
    "df_pep_jaccard.to_csv(\"/mnt/hgfs/G/Micro_Maxquant_v2/results/All.Peptides.jaccard_dist.tsv\", header=True, index=True, sep=\"\\t\")"
   ]
  },
  {
   "cell_type": "code",
   "execution_count": 23,
   "id": "fbf7f89a-5911-47b2-936a-4ee9fc72541e",
   "metadata": {
    "tags": []
   },
   "outputs": [],
   "source": [
    "# df_pep_Mic = pd.read_csv(\"/mnt/hgfs/G/Micro_Maxquant_v2/results/All.NonHuman.Peptides.tsv.gz\", header=0, sep=\"\\t\")\n",
    "df_Micro_Pep = pd.read_csv(\"/mnt/hgfs/G/Micro_Maxquant_v2/results/Micro_Origin_Pep.filtered.tsv\", header=0, sep=\"\\t\")\n",
    "df_pep_Mic = df_pep[df_pep.Sequence.isin(df_Micro_Pep.Sequence.to_list())]\n",
    "df_pep_Mic_list = df_pep_Mic[['Sample','Sample_Type', 'Sequence']].groupby(['Sample','Sample_Type']).apply(lambda x: x.Sequence.drop_duplicates().to_list())"
   ]
  },
  {
   "cell_type": "code",
   "execution_count": 24,
   "id": "fa3ff9ab-e56e-4d0f-b6fa-6730fe2a2722",
   "metadata": {
    "tags": []
   },
   "outputs": [],
   "source": [
    "df_pep_Micro_jaccard = df_pep_Mic_list.apply(lambda x: df_pep_Mic_list.apply(lambda y: len(set(y).intersection(x))/len(set(y).union(x))))"
   ]
  },
  {
   "cell_type": "code",
   "execution_count": 25,
   "id": "2e691f33-045e-47d1-8e58-8dff58dc283b",
   "metadata": {
    "tags": []
   },
   "outputs": [],
   "source": [
    "df_pep_Micro_jaccard.to_csv(\"/mnt/hgfs/G/Micro_Maxquant_v2/results/All.NonHUman.Peptides.jaccard_dist.tsv\", header=True, index=True, sep=\"\\t\")"
   ]
  },
  {
   "cell_type": "code",
   "execution_count": 26,
   "id": "309e402b-375a-40b7-a045-8090472541b4",
   "metadata": {
    "tags": []
   },
   "outputs": [],
   "source": [
    "df_HLA = pd.read_csv(\"/mnt/hgfs/G/Micro_Maxquant_v2/results/CRC.all.HLAType.tsv\", header=0, sep=\"\\t\")\n",
    "df_HLA = df_HLA.apply(lambda x: x.drop_duplicates().to_list())"
   ]
  },
  {
   "cell_type": "code",
   "execution_count": 27,
   "id": "a60b9489-81b0-4a38-8d46-120a31f9acac",
   "metadata": {
    "tags": []
   },
   "outputs": [
    {
     "data": {
      "text/plain": [
       "CRC01    [HLA-A*02:03, HLA-A*11:01, HLA-B*38:02, HLA-B*...\n",
       "CRC02    [HLA-A*31:01, HLA-A*11:01, HLA-B*46:01, HLA-C*...\n",
       "CRC03    [HLA-A*11:01, HLA-A*24:02, HLA-B*46:01, HLA-B*...\n",
       "CRC04    [HLA-A*11:01, HLA-A*02:03, HLA-B*13:01, HLA-B*...\n",
       "CRC05    [HLA-A*11:01, HLA-A*24:02, HLA-B*40:06, HLA-B*...\n",
       "CRC06    [HLA-A*02:01, HLA-A*24:02, HLA-B*48:01, HLA-B*...\n",
       "CRC07    [HLA-A*02:01, HLA-A*02:03, HLA-B*38:02, HLA-B*...\n",
       "CRC08    [HLA-A*02:01, HLA-A*11:02, HLA-B*51:01, HLA-B*...\n",
       "CRC09    [HLA-A*11:01, HLA-A*02:01, HLA-B*50:01, HLA-B*...\n",
       "CRC10    [HLA-A*02:01, HLA-A*02:07, HLA-B*13:01, HLA-B*...\n",
       "dtype: object"
      ]
     },
     "execution_count": 27,
     "metadata": {},
     "output_type": "execute_result"
    }
   ],
   "source": [
    "df_HLA"
   ]
  },
  {
   "cell_type": "code",
   "execution_count": 28,
   "id": "492e1711-3359-459e-a04c-a5c7dbb083b4",
   "metadata": {
    "tags": []
   },
   "outputs": [],
   "source": [
    "df_HLA_jaccard = df_HLA.apply(lambda x: df_HLA.apply(lambda y: len(set(y).intersection(x))/len(set(y).union(x))))\n",
    "df_HLA_jaccard.to_csv(\"/mnt/hgfs/G/Micro_Maxquant_v2/results/CRC.HLA.jaccard.tsv\", header=True, index=True, sep=\"\\t\")"
   ]
  },
  {
   "cell_type": "code",
   "execution_count": null,
   "id": "c62d1d26-e951-47a9-8bd7-a03c7caa16a3",
   "metadata": {},
   "outputs": [],
   "source": []
  }
 ],
 "metadata": {
  "kernelspec": {
   "display_name": "Python 3 (ipykernel)",
   "language": "python",
   "name": "python3"
  },
  "language_info": {
   "codemirror_mode": {
    "name": "ipython",
    "version": 3
   },
   "file_extension": ".py",
   "mimetype": "text/x-python",
   "name": "python",
   "nbconvert_exporter": "python",
   "pygments_lexer": "ipython3",
   "version": "3.11.5"
  }
 },
 "nbformat": 4,
 "nbformat_minor": 5
}
