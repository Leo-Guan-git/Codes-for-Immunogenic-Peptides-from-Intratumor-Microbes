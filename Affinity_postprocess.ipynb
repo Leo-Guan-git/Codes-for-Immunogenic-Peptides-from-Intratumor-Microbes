{
 "cells": [
  {
   "cell_type": "code",
   "execution_count": 1,
   "id": "a5152dea-e6bf-4bc3-9cc3-156c5026c9ed",
   "metadata": {
    "tags": []
   },
   "outputs": [],
   "source": [
    "import pandas as pd\n",
    "import os\n",
    "import sys"
   ]
  },
  {
   "cell_type": "code",
   "execution_count": 2,
   "id": "9b3b6b66-21e2-40b7-8572-b23e57c07f0a",
   "metadata": {
    "tags": []
   },
   "outputs": [],
   "source": [
    "file_path = \"/mnt/hgfs/G/Micro_Maxquant_v2/results\"\n",
    "sample_ids = ['CRC01', 'CRC02', 'CRC03', 'CRC04', 'CRC05', 'CRC06', 'CRC07', 'CRC08', 'CRC09', 'CRC10']\n",
    "dtypes = ['tumor','normal']"
   ]
  },
  {
   "cell_type": "code",
   "execution_count": 3,
   "id": "561831f7-fa9f-445d-89be-59e7e267a401",
   "metadata": {
    "tags": []
   },
   "outputs": [
    {
     "data": {
      "text/html": [
       "<div>\n",
       "<style scoped>\n",
       "    .dataframe tbody tr th:only-of-type {\n",
       "        vertical-align: middle;\n",
       "    }\n",
       "\n",
       "    .dataframe tbody tr th {\n",
       "        vertical-align: top;\n",
       "    }\n",
       "\n",
       "    .dataframe thead th {\n",
       "        text-align: right;\n",
       "    }\n",
       "</style>\n",
       "<table border=\"1\" class=\"dataframe\">\n",
       "  <thead>\n",
       "    <tr style=\"text-align: right;\">\n",
       "      <th></th>\n",
       "      <th>Peptide</th>\n",
       "      <th>MHC</th>\n",
       "      <th>Aff.IC50nM.min</th>\n",
       "      <th>Rank_EL.min(%)</th>\n",
       "      <th>Rank_BA.min(%)</th>\n",
       "      <th>BinderType</th>\n",
       "      <th>BatchID</th>\n",
       "    </tr>\n",
       "  </thead>\n",
       "  <tbody>\n",
       "    <tr>\n",
       "      <th>0</th>\n",
       "      <td>AAMLDTVVFK</td>\n",
       "      <td>HLA-A*11:01</td>\n",
       "      <td>7.63</td>\n",
       "      <td>0.053</td>\n",
       "      <td>0.018</td>\n",
       "      <td>SB</td>\n",
       "      <td>CRC01_tumor.all_peptides</td>\n",
       "    </tr>\n",
       "    <tr>\n",
       "      <th>1</th>\n",
       "      <td>AANKVVLQL</td>\n",
       "      <td>HLA-C*15:02</td>\n",
       "      <td>92.74</td>\n",
       "      <td>0.006</td>\n",
       "      <td>0.088</td>\n",
       "      <td>SB</td>\n",
       "      <td>CRC01_tumor.all_peptides</td>\n",
       "    </tr>\n",
       "    <tr>\n",
       "      <th>2</th>\n",
       "      <td>AAQDSTDLVAK</td>\n",
       "      <td>HLA-A*11:01</td>\n",
       "      <td>243.21</td>\n",
       "      <td>0.287</td>\n",
       "      <td>1.070</td>\n",
       "      <td>SB</td>\n",
       "      <td>CRC01_tumor.all_peptides</td>\n",
       "    </tr>\n",
       "    <tr>\n",
       "      <th>3</th>\n",
       "      <td>AEAEPEPEL</td>\n",
       "      <td>HLA-B*40:01</td>\n",
       "      <td>13.97</td>\n",
       "      <td>0.004</td>\n",
       "      <td>0.031</td>\n",
       "      <td>SB</td>\n",
       "      <td>CRC01_tumor.all_peptides</td>\n",
       "    </tr>\n",
       "    <tr>\n",
       "      <th>4</th>\n",
       "      <td>AEAKEKIYL</td>\n",
       "      <td>HLA-B*40:01</td>\n",
       "      <td>24.85</td>\n",
       "      <td>0.015</td>\n",
       "      <td>0.077</td>\n",
       "      <td>SB</td>\n",
       "      <td>CRC01_tumor.all_peptides</td>\n",
       "    </tr>\n",
       "  </tbody>\n",
       "</table>\n",
       "</div>"
      ],
      "text/plain": [
       "       Peptide          MHC  Aff.IC50nM.min  Rank_EL.min(%)  Rank_BA.min(%)  \\\n",
       "0   AAMLDTVVFK  HLA-A*11:01            7.63           0.053           0.018   \n",
       "1    AANKVVLQL  HLA-C*15:02           92.74           0.006           0.088   \n",
       "2  AAQDSTDLVAK  HLA-A*11:01          243.21           0.287           1.070   \n",
       "3    AEAEPEPEL  HLA-B*40:01           13.97           0.004           0.031   \n",
       "4    AEAKEKIYL  HLA-B*40:01           24.85           0.015           0.077   \n",
       "\n",
       "  BinderType                   BatchID  \n",
       "0         SB  CRC01_tumor.all_peptides  \n",
       "1         SB  CRC01_tumor.all_peptides  \n",
       "2         SB  CRC01_tumor.all_peptides  \n",
       "3         SB  CRC01_tumor.all_peptides  \n",
       "4         SB  CRC01_tumor.all_peptides  "
      ]
     },
     "execution_count": 3,
     "metadata": {},
     "output_type": "execute_result"
    }
   ],
   "source": [
    "# Affinity_list = list()\n",
    "# for sample in sample_ids:\n",
    "#     for dtype in dtypes:\n",
    "#         Affinity_list.append(pd.read_csv(os.path.join(file_path, \"{}_{}.all_peptides.mostBindingHLA.affinity.txt\".format(sample, dtype))))\n",
    "Affinity_list = [pd.read_csv(os.path.join(file_path, sample,\n",
    "                                          \"{}_{}.all_peptides.mostBindingHLA.affinity.txt\".format(sample, dtype)),\n",
    "                             header=0, sep=\"\\t\") for sample in sample_ids for dtype in dtypes]\n",
    "df_affinity = pd.concat(Affinity_list).reset_index(drop=True)\n",
    "df_affinity.head()"
   ]
  },
  {
   "cell_type": "code",
   "execution_count": 4,
   "id": "d144bbab-8e28-4ab1-bbc0-a9e7dc51459c",
   "metadata": {
    "tags": []
   },
   "outputs": [],
   "source": [
    "df_affinity.sort_values(['Peptide','Rank_EL.min(%)']).drop_duplicates('Peptide').drop(columns=['BatchID']).to_csv(\"/mnt/hgfs/G/Micro_Maxquant_v2/results/All.mostBindingHLA.affinity.txt\", header=True, sep=\"\\t\", index=False)"
   ]
  },
  {
   "cell_type": "code",
   "execution_count": 5,
   "id": "64f426d8-e3cd-458f-b7e3-cab5a4eba565",
   "metadata": {},
   "outputs": [
    {
     "data": {
      "text/html": [
       "<div>\n",
       "<style scoped>\n",
       "    .dataframe tbody tr th:only-of-type {\n",
       "        vertical-align: middle;\n",
       "    }\n",
       "\n",
       "    .dataframe tbody tr th {\n",
       "        vertical-align: top;\n",
       "    }\n",
       "\n",
       "    .dataframe thead th {\n",
       "        text-align: right;\n",
       "    }\n",
       "</style>\n",
       "<table border=\"1\" class=\"dataframe\">\n",
       "  <thead>\n",
       "    <tr style=\"text-align: right;\">\n",
       "      <th></th>\n",
       "      <th>#Peptide</th>\n",
       "      <th>Length</th>\n",
       "      <th>BinderNum</th>\n",
       "      <th>MHC</th>\n",
       "      <th>Aff.IC50nM</th>\n",
       "      <th>Rank_EL(%)</th>\n",
       "      <th>Rank_BA(%)</th>\n",
       "      <th>BinderType</th>\n",
       "      <th>Sample</th>\n",
       "      <th>Sample_Type</th>\n",
       "    </tr>\n",
       "  </thead>\n",
       "  <tbody>\n",
       "    <tr>\n",
       "      <th>0</th>\n",
       "      <td>AAMLDTVVFK</td>\n",
       "      <td>10</td>\n",
       "      <td>1</td>\n",
       "      <td>HLA-A*02:03,HLA-A*11:01,HLA-B*38:02,HLA-B*40:0...</td>\n",
       "      <td>14346.98,7.63,36784.10,30444.78,25482.00,18445.66</td>\n",
       "      <td>19.014,0.053,25.422,33.750,17.771,11.135</td>\n",
       "      <td>27.283,0.018,35.027,20.565,22.152,13.988</td>\n",
       "      <td>NB,SB,NB,NB,NB,NB</td>\n",
       "      <td>CRC01</td>\n",
       "      <td>tumor</td>\n",
       "    </tr>\n",
       "    <tr>\n",
       "      <th>1</th>\n",
       "      <td>AANKVVLQL</td>\n",
       "      <td>9</td>\n",
       "      <td>3</td>\n",
       "      <td>HLA-A*02:03,HLA-A*11:01,HLA-B*38:02,HLA-B*40:0...</td>\n",
       "      <td>3969.27,15891.70,23036.46,16052.60,6694.94,92.74</td>\n",
       "      <td>1.247,4.371,2.619,2.849,0.754,0.006</td>\n",
       "      <td>12.477,12.158,9.695,6.156,3.243,0.088</td>\n",
       "      <td>WB,NB,NB,NB,WB,SB</td>\n",
       "      <td>CRC01</td>\n",
       "      <td>tumor</td>\n",
       "    </tr>\n",
       "    <tr>\n",
       "      <th>2</th>\n",
       "      <td>AAQDSTDLVAK</td>\n",
       "      <td>11</td>\n",
       "      <td>1</td>\n",
       "      <td>HLA-A*02:03,HLA-A*11:01,HLA-B*38:02,HLA-B*40:0...</td>\n",
       "      <td>36768.59,243.21,43470.85,37835.64,38950.50,358...</td>\n",
       "      <td>45.286,0.287,55.000,30.167,31.600,26.519</td>\n",
       "      <td>71.309,1.070,68.333,41.651,60.666,42.940</td>\n",
       "      <td>NB,SB,NB,NB,NB,NB</td>\n",
       "      <td>CRC01</td>\n",
       "      <td>tumor</td>\n",
       "    </tr>\n",
       "    <tr>\n",
       "      <th>3</th>\n",
       "      <td>AEAEPEPEL</td>\n",
       "      <td>9</td>\n",
       "      <td>2</td>\n",
       "      <td>HLA-A*02:03,HLA-A*11:01,HLA-B*38:02,HLA-B*40:0...</td>\n",
       "      <td>24081.12,37924.58,10335.58,13.97,26464.05,2972...</td>\n",
       "      <td>6.488,14.696,0.315,0.004,2.438,6.235</td>\n",
       "      <td>42.532,59.456,2.401,0.031,23.889,29.253</td>\n",
       "      <td>NB,NB,SB,SB,NB,NB</td>\n",
       "      <td>CRC01</td>\n",
       "      <td>tumor</td>\n",
       "    </tr>\n",
       "    <tr>\n",
       "      <th>4</th>\n",
       "      <td>AEAKEKIYL</td>\n",
       "      <td>9</td>\n",
       "      <td>2</td>\n",
       "      <td>HLA-A*02:03,HLA-A*11:01,HLA-B*38:02,HLA-B*40:0...</td>\n",
       "      <td>26771.36,34231.52,14744.34,24.85,27837.71,3104...</td>\n",
       "      <td>15.573,18.842,0.942,0.015,6.122,10.149</td>\n",
       "      <td>47.557,43.957,4.135,0.077,26.523,31.779</td>\n",
       "      <td>NB,NB,WB,SB,NB,NB</td>\n",
       "      <td>CRC01</td>\n",
       "      <td>tumor</td>\n",
       "    </tr>\n",
       "  </tbody>\n",
       "</table>\n",
       "</div>"
      ],
      "text/plain": [
       "      #Peptide  Length  BinderNum  \\\n",
       "0   AAMLDTVVFK      10          1   \n",
       "1    AANKVVLQL       9          3   \n",
       "2  AAQDSTDLVAK      11          1   \n",
       "3    AEAEPEPEL       9          2   \n",
       "4    AEAKEKIYL       9          2   \n",
       "\n",
       "                                                 MHC  \\\n",
       "0  HLA-A*02:03,HLA-A*11:01,HLA-B*38:02,HLA-B*40:0...   \n",
       "1  HLA-A*02:03,HLA-A*11:01,HLA-B*38:02,HLA-B*40:0...   \n",
       "2  HLA-A*02:03,HLA-A*11:01,HLA-B*38:02,HLA-B*40:0...   \n",
       "3  HLA-A*02:03,HLA-A*11:01,HLA-B*38:02,HLA-B*40:0...   \n",
       "4  HLA-A*02:03,HLA-A*11:01,HLA-B*38:02,HLA-B*40:0...   \n",
       "\n",
       "                                          Aff.IC50nM  \\\n",
       "0  14346.98,7.63,36784.10,30444.78,25482.00,18445.66   \n",
       "1   3969.27,15891.70,23036.46,16052.60,6694.94,92.74   \n",
       "2  36768.59,243.21,43470.85,37835.64,38950.50,358...   \n",
       "3  24081.12,37924.58,10335.58,13.97,26464.05,2972...   \n",
       "4  26771.36,34231.52,14744.34,24.85,27837.71,3104...   \n",
       "\n",
       "                                 Rank_EL(%)  \\\n",
       "0  19.014,0.053,25.422,33.750,17.771,11.135   \n",
       "1       1.247,4.371,2.619,2.849,0.754,0.006   \n",
       "2  45.286,0.287,55.000,30.167,31.600,26.519   \n",
       "3      6.488,14.696,0.315,0.004,2.438,6.235   \n",
       "4    15.573,18.842,0.942,0.015,6.122,10.149   \n",
       "\n",
       "                                 Rank_BA(%)         BinderType Sample  \\\n",
       "0  27.283,0.018,35.027,20.565,22.152,13.988  NB,SB,NB,NB,NB,NB  CRC01   \n",
       "1     12.477,12.158,9.695,6.156,3.243,0.088  WB,NB,NB,NB,WB,SB  CRC01   \n",
       "2  71.309,1.070,68.333,41.651,60.666,42.940  NB,SB,NB,NB,NB,NB  CRC01   \n",
       "3   42.532,59.456,2.401,0.031,23.889,29.253  NB,NB,SB,SB,NB,NB  CRC01   \n",
       "4   47.557,43.957,4.135,0.077,26.523,31.779  NB,NB,WB,SB,NB,NB  CRC01   \n",
       "\n",
       "  Sample_Type  \n",
       "0       tumor  \n",
       "1       tumor  \n",
       "2       tumor  \n",
       "3       tumor  \n",
       "4       tumor  "
      ]
     },
     "execution_count": 5,
     "metadata": {},
     "output_type": "execute_result"
    }
   ],
   "source": [
    "All_Affinity_list = list()\n",
    "for sample in sample_ids:\n",
    "    for dtype in dtypes:\n",
    "        df_tmp = pd.read_csv(os.path.join(file_path, \"{sample}/{sample}_{dtype}.all_peptides.peptides.affinity_features.txt\".format(sample=sample, dtype=dtype)),\n",
    "                            header=0, sep=\"\\t\")\n",
    "        df_tmp[\"Sample\"] = sample\n",
    "        df_tmp[\"Sample_Type\"] = dtype\n",
    "        All_Affinity_list.append(df_tmp)\n",
    "df_all_affinity = pd.concat(All_Affinity_list)\n",
    "df_all_affinity.head()"
   ]
  },
  {
   "cell_type": "code",
   "execution_count": 6,
   "id": "ef829bc4-00d3-46fb-9b7d-53b0d358c383",
   "metadata": {
    "tags": []
   },
   "outputs": [],
   "source": [
    "df_all_affinity.to_csv(\"/mnt/hgfs/G/Micro_Maxquant_v2/results/All.affinity_features.txt\", header=True, sep=\"\\t\", index=False)"
   ]
  },
  {
   "cell_type": "code",
   "execution_count": 7,
   "id": "cf90984e-cb08-4905-be5a-20366502e006",
   "metadata": {
    "tags": []
   },
   "outputs": [
    {
     "data": {
      "text/plain": [
       "Index(['#Peptide', 'Length', 'BinderNum', 'MHC', 'Aff.IC50nM', 'Rank_EL(%)',\n",
       "       'Rank_BA(%)', 'BinderType', 'Sample', 'Sample_Type'],\n",
       "      dtype='object')"
      ]
     },
     "execution_count": 7,
     "metadata": {},
     "output_type": "execute_result"
    }
   ],
   "source": [
    "df_all_affinity.columns"
   ]
  },
  {
   "cell_type": "code",
   "execution_count": null,
   "id": "2df8e658-bd7f-4649-8568-e56c08e22645",
   "metadata": {},
   "outputs": [],
   "source": []
  }
 ],
 "metadata": {
  "kernelspec": {
   "display_name": "Python 3 (ipykernel)",
   "language": "python",
   "name": "python3"
  },
  "language_info": {
   "codemirror_mode": {
    "name": "ipython",
    "version": 3
   },
   "file_extension": ".py",
   "mimetype": "text/x-python",
   "name": "python",
   "nbconvert_exporter": "python",
   "pygments_lexer": "ipython3",
   "version": "3.11.5"
  }
 },
 "nbformat": 4,
 "nbformat_minor": 5
}
